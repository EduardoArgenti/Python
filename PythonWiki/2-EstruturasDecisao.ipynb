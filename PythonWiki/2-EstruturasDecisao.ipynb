{
 "cells": [
  {
   "cell_type": "markdown",
   "id": "bc0ee91d",
   "metadata": {},
   "source": [
    "1. Faça um Programa que peça dois números e imprima o maior deles."
   ]
  },
  {
   "cell_type": "code",
   "execution_count": 3,
   "id": "3c590dbb",
   "metadata": {},
   "outputs": [
    {
     "name": "stdout",
     "output_type": "stream",
     "text": [
      "Digite um valor A: -71\n",
      "Digite um valor B: 10\n",
      "O número B é maior que A!\n"
     ]
    }
   ],
   "source": [
    "a = float(input(\"Digite um valor A: \"))\n",
    "b = float(input(\"Digite um valor B: \"))\n",
    "\n",
    "if a > b:\n",
    "    print(\"O número A é maior que B!\")\n",
    "else:\n",
    "    print(\"O número B é maior que A!\")"
   ]
  },
  {
   "cell_type": "markdown",
   "id": "d903723a",
   "metadata": {},
   "source": [
    "2. Faça um Programa que peça um valor e mostre na tela se o valor é positivo ou negativo."
   ]
  },
  {
   "cell_type": "code",
   "execution_count": 9,
   "id": "23d8b1f1",
   "metadata": {},
   "outputs": [
    {
     "name": "stdout",
     "output_type": "stream",
     "text": [
      "Digite qualquer valor: -999\n",
      "O número é negativo!\n"
     ]
    }
   ],
   "source": [
    "num = float(input(\"Digite qualquer valor: \"))\n",
    "\n",
    "if num > 0:\n",
    "    print(\"O número é positivo!\")\n",
    "elif num == 0:\n",
    "    print(\"O número é zero!\")\n",
    "else:\n",
    "    print(\"O número é negativo!\")"
   ]
  },
  {
   "cell_type": "markdown",
   "id": "92e400d0",
   "metadata": {},
   "source": [
    "3. Faça um Programa que verifique se uma letra digitada é \"F\" ou \"M\". Conforme a letra escrever: F - Feminino, M - Masculino, Sexo Inválido."
   ]
  },
  {
   "cell_type": "code",
   "execution_count": 20,
   "id": "a834cfab",
   "metadata": {},
   "outputs": [
    {
     "name": "stdout",
     "output_type": "stream",
     "text": [
      "Sexo (M ou F): V\n",
      "Sexo inválido\n"
     ]
    }
   ],
   "source": [
    "# Este código trata inputs em lowercase / caixa baixa!\n",
    "sexo = input(\"Sexo (M ou F): \")\n",
    "\n",
    "if sexo.upper() == 'M':\n",
    "    print(\"M - Masculino\")\n",
    "elif sexo.upper() == 'F':\n",
    "    print(\"F - Feminino\")\n",
    "else:\n",
    "    print(\"Sexo inválido\")"
   ]
  },
  {
   "cell_type": "markdown",
   "id": "257db5c4",
   "metadata": {},
   "source": [
    "4. Faça um Programa que verifique se uma letra digitada é vogal ou consoante."
   ]
  },
  {
   "cell_type": "code",
   "execution_count": 39,
   "id": "36bba53f",
   "metadata": {},
   "outputs": [
    {
     "name": "stdout",
     "output_type": "stream",
     "text": [
      "Digite uma letra qualquer: z\n",
      "A letra ' z ' é uma consoante!\n"
     ]
    }
   ],
   "source": [
    "# A solução é bem interessante! Basta verificar se a letra faz parte da string 'aeiou'!\n",
    "letra = input(\"Digite uma letra qualquer: \")\n",
    "\n",
    "if letra.lower() in 'aeiou':\n",
    "    print(\"A letra '\", letra,\"' é uma vogal!\")\n",
    "else:\n",
    "    print(\"A letra '\", letra,\"' é uma consoante!\")"
   ]
  },
  {
   "cell_type": "markdown",
   "id": "05a18b2e",
   "metadata": {},
   "source": [
    "5. Faça um programa para a leitura de duas notas parciais de um aluno. O programa deve calcular a média alcançada por aluno e apresentar:\n",
    "a. A mensagem \"Aprovado\", se a média alcançada for maior ou igual a sete;\n",
    "b. A mensagem \"Reprovado\", se a média for menor do que sete;\n",
    "c. A mensagem \"Aprovado com Distinção\", se a média for igual a dez."
   ]
  },
  {
   "cell_type": "code",
   "execution_count": 45,
   "id": "8f102ac4",
   "metadata": {},
   "outputs": [
    {
     "name": "stdout",
     "output_type": "stream",
     "text": [
      "Nota 1: 6.9\n",
      "Nota 2: 6.9\n",
      "\n",
      "Média: 6.9 \tAluno reprovado!\n"
     ]
    }
   ],
   "source": [
    "n1 = float(input(\"Nota 1: \"))\n",
    "n2 = float(input(\"Nota 2: \"))\n",
    "\n",
    "media = (n1 + n2) / 2\n",
    "\n",
    "if media >= 7 and media < 10:\n",
    "    print(\"\\nMédia:\", media, \"\\tAluno aprovado!\")\n",
    "elif media == 10:\n",
    "    print(\"\\nMédia:\", media, \"\\tAluno aprovado com distinção!\")\n",
    "else:\n",
    "    print(\"\\nMédia:\", media, \"\\tAluno reprovado!\")\n",
    "           "
   ]
  },
  {
   "cell_type": "markdown",
   "id": "7cffeff1",
   "metadata": {},
   "source": [
    "6. Faça um Programa que leia três números e mostre o maior deles."
   ]
  },
  {
   "cell_type": "code",
   "execution_count": 49,
   "id": "70443444",
   "metadata": {},
   "outputs": [
    {
     "name": "stdout",
     "output_type": "stream",
     "text": [
      "Número 1: 2\n",
      "Número 2: 10\n",
      "Número 3: 1\n",
      "N2 é o maior!\n"
     ]
    }
   ],
   "source": [
    "# Apesar de simples, este código pode ser feito de várias formas.\n",
    "# Uma alternativa (que utiliza menos ifs, inclusive), é a seguinte:\n",
    "# if n1 > n2 and n1 > n3:\n",
    "#      print(\"N1 é o maior!\")\n",
    "# if n2 > n1 and n2 > n3:\n",
    "#      print(\"N2 é o maior!\")\n",
    "# if n3 > n2 and n3 > n1:\n",
    "#      print(\"N3 é o maior!\")\n",
    "\n",
    "n1 = float(input(\"Número 1: \"))\n",
    "n2 = float(input(\"Número 2: \"))\n",
    "n3 = float(input(\"Número 3: \"))\n",
    "\n",
    "if n1 > n2:\n",
    "    if n1 > n3:\n",
    "        print(\"N1 é o maior!\")\n",
    "    else:\n",
    "        print(\"N3 é o maior!\")\n",
    "else:\n",
    "    if n2 > n3:\n",
    "        print(\"N2 é o maior!\")\n",
    "    else:\n",
    "        print(\"N3 é o maior!\")"
   ]
  },
  {
   "cell_type": "markdown",
   "id": "59f60fa4",
   "metadata": {},
   "source": [
    "7. Faça um Programa que leia três números e mostre o maior e o menor deles."
   ]
  },
  {
   "cell_type": "code",
   "execution_count": 55,
   "id": "f42e8762",
   "metadata": {},
   "outputs": [
    {
     "name": "stdout",
     "output_type": "stream",
     "text": [
      "Número 1: 1\n",
      "Número 2: 5\n",
      "Número 3: 2\n",
      "N2 é o maior!\n",
      "N1 é o menor!\n"
     ]
    }
   ],
   "source": [
    "# Provavelmente existe uma forma de reduzir estes ifs!\n",
    "n1 = float(input(\"Número 1: \"))\n",
    "n2 = float(input(\"Número 2: \"))\n",
    "n3 = float(input(\"Número 3: \"))\n",
    "\n",
    "if n1 > n2 and n1 > n3:\n",
    "    print(\"N1 é o maior!\")\n",
    "    if n2 > n3:\n",
    "        print(\"N3 é o menor!\")\n",
    "    else:\n",
    "        print(\"N2 é o menor!\")\n",
    "if n2 > n1 and n2 > n3:\n",
    "    print(\"N2 é o maior!\")\n",
    "    if n1 > n3:\n",
    "        print(\"N3 é o menor!\")\n",
    "    else:\n",
    "        print(\"N1 é o menor!\")\n",
    "if n3 > n2 and n3 > n1:\n",
    "    print(\"N3 é o maior!\")\n",
    "    if n2 > n1:\n",
    "        print(\"N1 é o menor!\")\n",
    "    else:\n",
    "        print(\"N2 é o menor!\")\n"
   ]
  },
  {
   "cell_type": "markdown",
   "id": "a2e02f12",
   "metadata": {},
   "source": [
    "8. Faça um programa que pergunte o preço de três produtos e informe qual produto você deve comprar, sabendo que a decisão é sempre pelo mais barato."
   ]
  },
  {
   "cell_type": "code",
   "execution_count": 58,
   "id": "039b6e38",
   "metadata": {},
   "outputs": [
    {
     "name": "stdout",
     "output_type": "stream",
     "text": [
      "Preço Produto 1: 2\n",
      "Preço Produto 2: 1\n",
      "Preço Produto 3: 3\n",
      "Produto 2 é o mais barato!\n"
     ]
    }
   ],
   "source": [
    "p1 = float(input(\"Preço Produto 1: \"))\n",
    "p2 = float(input(\"Preço Produto 2: \"))\n",
    "p3 = float(input(\"Preço Produto 3: \"))\n",
    "\n",
    "if p1 < p2 and p1 < p3:\n",
    "    print(\"Produto 1 é o mais barato!\")\n",
    "if p2 < p1 and p2 < p3:\n",
    "    print(\"Produto 2 é o mais barato!\")\n",
    "if p3 < p2 and p3 < p1:\n",
    "    print(\"Produto 3 é o mais barato!\")"
   ]
  },
  {
   "cell_type": "markdown",
   "id": "1d8eed93",
   "metadata": {},
   "source": [
    "9. Faça um Programa que leia três números e mostre-os em ordem decrescente."
   ]
  },
  {
   "cell_type": "code",
   "execution_count": 63,
   "id": "1f33c411",
   "metadata": {},
   "outputs": [
    {
     "name": "stdout",
     "output_type": "stream",
     "text": [
      "Número 1: 0\n",
      "Número 2: 0\n",
      "Número 3: 2\n",
      "2.0 0.0 0.0\n"
     ]
    }
   ],
   "source": [
    "# Caso o usuário digitar 3 zeros, nenhum if será contemplado!\n",
    "n1 = float(input(\"Número 1: \"))\n",
    "n2 = float(input(\"Número 2: \"))\n",
    "n3 = float(input(\"Número 3: \"))\n",
    "\n",
    "if n1 > n2 and n1 > n3:\n",
    "    if n2 > n3:\n",
    "        print(n1, n2, n3)\n",
    "    else:\n",
    "        print(n1, n3, n2)\n",
    "if n2 > n1 and n2 > n3:\n",
    "    if n1 > n3:\n",
    "        print(n2, n1, n3)\n",
    "    else:\n",
    "        print(n2, n3, n1)\n",
    "if n3 > n2 and n3 > n1:\n",
    "    if n2 > n1:\n",
    "        print(n3, n2, n1)\n",
    "    else:\n",
    "        print(n3, n1, n2)"
   ]
  },
  {
   "cell_type": "markdown",
   "id": "740e3449",
   "metadata": {},
   "source": [
    "10. Faça um Programa que pergunte em que turno você estuda. Peça para digitar M-matutino ou V-Vespertino ou N- Noturno. Imprima a mensagem \"Bom Dia!\", \"Boa Tarde!\" ou \"Boa Noite!\" ou \"Valor Inválido!\", conforme o caso."
   ]
  },
  {
   "cell_type": "code",
   "execution_count": 70,
   "id": "7786ac95",
   "metadata": {},
   "outputs": [
    {
     "name": "stdout",
     "output_type": "stream",
     "text": [
      "Turno: u\n",
      "Valor inválido!\n"
     ]
    }
   ],
   "source": [
    "# Aparentemente o Python, por default, não possui um \n",
    "# equivalente ao switch (menu para substituir vários ifs)\n",
    "turno = input(\"Turno: \")\n",
    "\n",
    "if turno.lower() == 'm':\n",
    "    print(\"Bom dia!\")\n",
    "elif turno.lower() == 'v':\n",
    "    print(\"Boa tarde!\")\n",
    "elif turno.lower() == 'n':\n",
    "    print(\"Boa noite!\")\n",
    "else:\n",
    "    print(\"Valor inválido!\")\n"
   ]
  },
  {
   "cell_type": "markdown",
   "id": "0ca5d9f3",
   "metadata": {},
   "source": [
    "11. As Organizações Tabajara resolveram dar um aumento de salário aos seus colaboradores e lhe contrataram para desenvolver o programa que calculará os reajustes.\n",
    "\n",
    "Faça um programa que recebe o salário de um colaborador e o reajuste segundo o seguinte critério, baseado no salário atual:\n",
    "a. salários até R$ 280,00 (incluindo) : aumento de 20%\n",
    "b. salários entre R$ 280,00 e R$ 700,00 : aumento de 15%\n",
    "c. salários entre R$ 700,00 e R$ 1500,00 : aumento de 10%\n",
    "d. salários de R$ 1500,00 em diante : aumento de 5%\n",
    "\n",
    "Após o aumento ser realizado, informe na tela:\n",
    "e. o salário antes do reajuste;\n",
    "f. o percentual de aumento aplicado;\n",
    "g. o valor do aumento;\n",
    "h. o novo salário, após o aumento."
   ]
  },
  {
   "cell_type": "code",
   "execution_count": 79,
   "id": "3c54c09c",
   "metadata": {},
   "outputs": [
    {
     "name": "stdout",
     "output_type": "stream",
     "text": [
      "Salário atual: 1500\n",
      "\n",
      "Salário original: R$ 1500.0\n",
      "Aumento percentual: 0.05\n",
      "Valor do aumento: R$ 75.0\n",
      "Novo salário: R$ 1575.0\n"
     ]
    }
   ],
   "source": [
    "salario_atual = float(input(\"Salário atual: \"))\n",
    "aumento_percentual = 0\n",
    "\n",
    "if 280 >= salario_atual:\n",
    "    salario_reajustado = salario_atual * 1.2\n",
    "    aumento_percentual = 0.2\n",
    "elif 280 < salario_atual < 700:\n",
    "    salario_reajustado = salario_atual * 1.15\n",
    "    aumento_percentual = 0.15\n",
    "elif 700 <= salario_atual < 1500:\n",
    "    salario_reajustado = salario_atual * 1.10\n",
    "    aumento_percentual = 0.1\n",
    "elif 1500 <= salario_atual:\n",
    "    salario_reajustado = salario_atual * 1.05\n",
    "    aumento_percentual = 0.05\n",
    "    \n",
    "print(\"\\nSalário original: R$\", salario_atual)\n",
    "print(\"Aumento percentual:\", aumento_percentual)\n",
    "print(\"Valor do aumento: R$\", salario_atual * aumento_percentual)\n",
    "print(\"Novo salário: R$\", salario_reajustado)\n",
    "\n",
    "    \n"
   ]
  },
  {
   "cell_type": "markdown",
   "id": "e08a5d6b",
   "metadata": {},
   "source": [
    "12. Faça um programa para o cálculo de uma folha de pagamento, sabendo que os descontos são do Imposto de Renda, que depende do salário bruto (conforme tabela abaixo) e 3% para o Sindicato e que o FGTS corresponde a 11% do Salário Bruto, mas não é descontado (é a empresa que deposita). O Salário Líquido corresponde ao Salário Bruto menos os descontos. O programa deverá pedir ao usuário o valor da sua hora e a quantidade de horas trabalhadas no mês.\n",
    "\n",
    "Desconto do IR:\n",
    "Salário Bruto até 900 (inclusive) - isento\n",
    "Salário Bruto até 1500 (inclusive) - desconto de 5%\n",
    "Salário Bruto até 2500 (inclusive) - desconto de 10%\n",
    "Salário Bruto acima de 2500 - desconto de 20%\n",
    "\n",
    "Imprima na tela as informações, dispostas conforme o exemplo abaixo. No exemplo o valor da hora é 5 e a quantidade de hora é 220."
   ]
  },
  {
   "cell_type": "code",
   "execution_count": 103,
   "id": "13e12fc5",
   "metadata": {},
   "outputs": [
    {
     "name": "stdout",
     "output_type": "stream",
     "text": [
      "Salário/hora: 10\n",
      "Horas/mês: 200\n",
      "\n",
      "Salário Bruto\t\t\t:\tR$ 2000.0\n",
      "(-) IR ( 10.0 %)\t\t:\tR$ 200.0\n",
      "(-) INSS ( 10.0 %)\t\t:\tR$ 200.0\n",
      "FGTS ( 11.0 %)\t\t\t:\tR$ 220.0\n",
      "Total de descontos\t\t:\tR$ 400.0\n",
      "Salário Líquido\t\t\t:\tR$ 1600.0\n"
     ]
    }
   ],
   "source": [
    "salario_h = float(input(\"Salário/hora: \"))\n",
    "horas_m = float(input(\"Horas/mês: \"))\n",
    "\n",
    "salario_bruto = salario_h * horas_m\n",
    "imposto_r = 0\n",
    "inss = 0.1\n",
    "fgts = 0.11\n",
    "\n",
    "if 900 >= salario_bruto:\n",
    "    imposto_r = 0\n",
    "elif 900 < salario_bruto <= 1500:\n",
    "    imposto_r = 0.05\n",
    "elif 1500 < salario_bruto <= 2500:\n",
    "    imposto_r = 0.1\n",
    "elif salario_bruto > 2500:\n",
    "    imposto_r = 0.2\n",
    "    \n",
    "total_descontos = (salario_bruto * imposto_r) + (salario_bruto * inss)\n",
    "\n",
    "print(\"\\nSalário Bruto\\t\\t\\t:\\tR$\", salario_bruto)\n",
    "print(\"(-) IR (\", imposto_r * 100,\"%)\\t\\t:\\tR$\", imposto_r * salario_bruto)\n",
    "print(\"(-) INSS (\", inss * 100, \"%)\\t\\t:\\tR$\", salario_bruto * inss)\n",
    "print(\"FGTS (\", fgts * 100, \"%)\\t\\t\\t:\\tR$\", salario_bruto * fgts)\n",
    "print(\"Total de descontos\\t\\t:\\tR$\", total_descontos)\n",
    "print(\"Salário Líquido\\t\\t\\t:\\tR$\", salario_bruto - total_descontos)"
   ]
  },
  {
   "cell_type": "markdown",
   "id": "0c27a997",
   "metadata": {},
   "source": [
    "13. Faça um Programa que leia um número e exiba o dia correspondente da semana. (1-Domingo, 2- Segunda, etc.), se digitar outro valor deve aparecer valor inválido."
   ]
  },
  {
   "cell_type": "code",
   "execution_count": 123,
   "id": "33edfd8d",
   "metadata": {},
   "outputs": [
    {
     "name": "stdout",
     "output_type": "stream",
     "text": [
      "Número do dia da semana: 5\n",
      "5 - Quinta-feira\n"
     ]
    }
   ],
   "source": [
    "dia = int(input(\"Número do dia da semana: \"))\n",
    "\n",
    "if dia == 1:\n",
    "    print(\"1 - Domingo\")\n",
    "elif dia == 2:\n",
    "    print(\"2 - Segunda-feira\")\n",
    "elif dia == 3:\n",
    "    print(\"3 - Terça-feira\")\n",
    "elif dia == 4:\n",
    "    print(\"4 - Quarta-feira\")\n",
    "elif dia == 5:\n",
    "    print(\"5 - Quinta-feira\")\n",
    "elif dia == 6:\n",
    "    print(\"6 - Sexta-feira\")\n",
    "elif dia == 7:\n",
    "    print(\"7 - Sábado\")\n",
    "else:\n",
    "    print(\"Dia inválido!\")\n",
    "\n",
    "\n",
    "\n",
    "\n"
   ]
  },
  {
   "cell_type": "markdown",
   "id": "0e827d53",
   "metadata": {},
   "source": [
    "14. Faça um programa que lê as duas notas parciais obtidas por um aluno numa disciplina ao longo de um semestre, e calcule a sua média. A atribuição de conceitos obedece à tabela abaixo:\n",
    "\n",
    "O algoritmo deve mostrar na tela as notas, a média, o conceito correspondente e a mensagem “APROVADO” se o conceito for A, B ou C ou “REPROVADO” se o conceito for D ou E."
   ]
  },
  {
   "cell_type": "code",
   "execution_count": 141,
   "id": "b9bca00d",
   "metadata": {},
   "outputs": [
    {
     "name": "stdout",
     "output_type": "stream",
     "text": [
      "N1: 5.9\n",
      "N2: 5.9\n",
      "\n",
      "Média: 5.9\n",
      "Conceito: D\n",
      "Situação: REPROVADO\n"
     ]
    }
   ],
   "source": [
    "n1 = float(input(\"N1: \"))\n",
    "n2 = float(input(\"N2: \"))\n",
    "\n",
    "media = (n1 + n2) / 2\n",
    "\n",
    "print(\"\\nMédia:\", media)\n",
    "if 0 <= media < 4:\n",
    "    print(\"Conceito: E\")\n",
    "    print(\"Situação: REPROVADO\")\n",
    "elif 4 <= media < 6:\n",
    "    print(\"Conceito: D\")\n",
    "    print(\"Situação: REPROVADO\")\n",
    "elif 6 <= media < 7.5:\n",
    "    print(\"Conceito: C\")\n",
    "    print(\"Situação: APROVADO\")\n",
    "elif 7.5 <= media < 9:\n",
    "    print(\"Conceito: B\")\n",
    "    print(\"Situação: APROVADO\")\n",
    "elif 9 <= media <= 10:\n",
    "    print(\"Conceito: A\")\n",
    "    print(\"Situação: APROVADO\")\n",
    "else:\n",
    "    print(\"Média inválida!\")"
   ]
  },
  {
   "cell_type": "markdown",
   "id": "6b0c9c96",
   "metadata": {},
   "source": [
    "15. Faça um Programa que peça os 3 lados de um triângulo. O programa deverá informar se os valores podem ser um triângulo. Indique, caso os lados formem um triângulo, se o mesmo é: equilátero, isósceles ou escaleno.\n",
    "\n",
    "Dicas:\n",
    "- Três lados formam um triângulo quando a soma de quaisquer dois lados for maior que o terceiro;\n",
    "- Triângulo Equilátero: três lados iguais;\n",
    "- Triângulo Isósceles: quaisquer dois lados iguais;\n",
    "- Triângulo Escaleno: três lados diferentes;"
   ]
  },
  {
   "cell_type": "code",
   "execution_count": 158,
   "id": "44b8a9a7",
   "metadata": {},
   "outputs": [
    {
     "name": "stdout",
     "output_type": "stream",
     "text": [
      "Lado 1: 2\n",
      "Lado 2: 2\n",
      "Lado 3: 2\n",
      "Triângulo Equilátero\n"
     ]
    }
   ],
   "source": [
    "lado1 = float(input(\"Lado 1: \"))\n",
    "lado2 = float(input(\"Lado 2: \"))\n",
    "lado3 = float(input(\"Lado 3: \"))\n",
    "\n",
    "if (lado1 + lado2 < lado3) or (lado1 + lado3 < lado2) or (lado2 + lado3 < lado1):\n",
    "    print(\"Não é um triângulo!\")\n",
    "elif (lado1 == lado2) and (lado1 == lado3):    \n",
    "    print(\"Triângulo Equilátero\")\n",
    "elif (lado1 == lado2) or (lado1 == lado3) or (lado2 == lado3):\n",
    "    print(\"Triângulo Isósceles\")\n",
    "else:\n",
    "    print(\"Triângulo Escaleno\")\n"
   ]
  },
  {
   "cell_type": "markdown",
   "id": "b127557f",
   "metadata": {},
   "source": [
    "16. Faça um programa que calcule as raízes de uma equação do segundo grau, na forma ax2 + bx + c. O programa deverá pedir os valores de a, b e c e fazer as consistências, informando ao usuário nas seguintes situações:"
   ]
  },
  {
   "cell_type": "code",
   "execution_count": 172,
   "id": "fd6f9d0d",
   "metadata": {},
   "outputs": [
    {
     "name": "stdout",
     "output_type": "stream",
     "text": [
      "a: 3\n",
      "b: 2\n",
      "c: 1\n",
      "Delta < 0. Não existe raiz\n"
     ]
    }
   ],
   "source": [
    "import math\n",
    "\n",
    "a = float(input(\"a: \"))\n",
    "\n",
    "if a != 0:\n",
    "    b = float(input(\"b: \"))\n",
    "    c = float(input(\"c: \"))\n",
    "    delta = (b ** 2) - (4 * a * c)\n",
    "    if delta == 0:\n",
    "        x1 = (b * -1) / (2 * a)\n",
    "        print(\"Delta = 0. Raiz é\", x1)\n",
    "    elif delta > 0:\n",
    "        x1 = ((b * -1) + math.sqrt(delta)) / (2 * a)\n",
    "        x2 = ((b * -1) - math.sqrt(delta)) / (2 * a)\n",
    "        print(\"Delta > 0. Raízes são\", x1, \"e\", x2)\n",
    "    else:\n",
    "        print(\"Delta < 0. Não existe raiz\")\n",
    "else:\n",
    "    print(\"A equação não é de segundo grau com A = 0\")"
   ]
  },
  {
   "cell_type": "markdown",
   "id": "921eebf5",
   "metadata": {},
   "source": [
    "17. Faça um Programa que peça um número correspondente a um determinado ano e em seguida informe se este ano é ou não bissexto."
   ]
  },
  {
   "cell_type": "code",
   "execution_count": 182,
   "id": "4d7f3e38",
   "metadata": {},
   "outputs": [
    {
     "name": "stdout",
     "output_type": "stream",
     "text": [
      "Informe um ano: 1989\n",
      "Não é um ano bissexto.\n"
     ]
    }
   ],
   "source": [
    "ano = int(input(\"Informe um ano: \"))\n",
    "\n",
    "if (ano % 4 == 0 and ano % 100 != 0) or ano % 400 == 0:\n",
    "    print(\"Ano bissexto.\")\n",
    "else:\n",
    "    print(\"Não é um ano bissexto.\")"
   ]
  },
  {
   "cell_type": "markdown",
   "id": "0eae8ba2",
   "metadata": {},
   "source": [
    "18. Faça um Programa que peça uma data no formato dd/mm/aaaa e determine se a mesma é uma data válida."
   ]
  },
  {
   "cell_type": "code",
   "execution_count": 2,
   "id": "cf554ae6",
   "metadata": {},
   "outputs": [
    {
     "ename": "IndentationError",
     "evalue": "unindent does not match any outer indentation level (<tokenize>, line 15)",
     "output_type": "error",
     "traceback": [
      "\u001b[1;36m  File \u001b[1;32m\"<tokenize>\"\u001b[1;36m, line \u001b[1;32m15\u001b[0m\n\u001b[1;33m    elif mes == 2:\u001b[0m\n\u001b[1;37m    ^\u001b[0m\n\u001b[1;31mIndentationError\u001b[0m\u001b[1;31m:\u001b[0m unindent does not match any outer indentation level\n"
     ]
    }
   ],
   "source": [
    "# CÓDIGO NÃO CONCLUÍDO E NEM TESTADO\n",
    "dia = int(input(\"Dia: \"))\n",
    "mes = int(input(\"Mês: \"))\n",
    "ano = int(input(\"Ano: \"))\n",
    "\n",
    "dias_31 = [1, 3, 5, 7, 8, 10, 12]\n",
    "\n",
    "# mês ou ano inválido (só considera do ano 1 em diante), retorna False\n",
    "if mes < 1 or mes > 12 or ano <= 0:\n",
    "    valida = false\n",
    "\n",
    "# verifica qual o último dia do mês\n",
    "if mes in (1, 3, 5, 7, 8, 10, 12):\n",
    "        ultimo_dia = 31\n",
    "    elif mes == 2:\n",
    "        # verifica se é ano bissexto\n",
    "        if (ano % 4 == 0) and (ano % 100 != 0 or ano % 400 == 0):\n",
    "            ultimo_dia = 29\n",
    "        else:\n",
    "            ultimo_dia = 28\n",
    "    else:\n",
    "        ultimo_dia = 30\n",
    "\n",
    "    # verifica se o dia é válido\n",
    "    if dia < 1 or dia > ultimo_dia:\n",
    "        return False\n",
    "\n",
    "    return True"
   ]
  },
  {
   "cell_type": "markdown",
   "id": "a35d8f70",
   "metadata": {},
   "source": [
    "19. Faça um Programa que leia um número inteiro menor que 1000 e imprima a quantidade de centenas, dezenas e unidades do mesmo.\n",
    "\n",
    "Observando os termos no plural a colocação do \"e\", da vírgula entre outros. Exemplo:\n",
    "- 326 = 3 centenas, 2 dezenas e 6 unidades\n",
    "- 12 = 1 dezena e 2 unidades \n",
    "- Testar com: 326, 300, 100, 320, 310,305, 301, 101, 311, 111, 25, 20, 10, 21, 11, 1, 7 e 16"
   ]
  },
  {
   "cell_type": "code",
   "execution_count": 36,
   "id": "16d9ac55",
   "metadata": {},
   "outputs": [
    {
     "name": "stdout",
     "output_type": "stream",
     "text": [
      "Digite um número inteiro menor que 1000: 326\n",
      "326 = 3 centenas, 2 dezenas e 6 unidades\n"
     ]
    }
   ],
   "source": [
    "# Precisamos de sys para parar a execução do programa caso a condição não for atendida\n",
    "import sys\n",
    "\n",
    "num = int(input(\"Digite um número inteiro menor que 1000: \"))\n",
    "centenas = 0\n",
    "dezenas = 0 \n",
    "unidades = 0\n",
    "resto = 0\n",
    "\n",
    "if num < 1000:\n",
    "    resto = num\n",
    "    \n",
    "    if resto >= 100:\n",
    "        centenas = int(resto / 100)\n",
    "        resto = resto - (centenas * 100)\n",
    "    if resto >= 10:\n",
    "        dezenas = int(resto / 10)\n",
    "        resto = resto - (dezenas * 10)\n",
    "    if resto >= 1:\n",
    "        unidades = resto\n",
    "else:\n",
    "    print(\"\\nNúmero inválido! Finalizando a execução.\")\n",
    "    sys.exit()\n",
    "    \n",
    "print(num, \"=\", centenas, \"centenas,\", dezenas, \"dezenas e\", unidades, \"unidades\")"
   ]
  },
  {
   "cell_type": "markdown",
   "id": "ccb22e42",
   "metadata": {},
   "source": [
    "20. Faça um Programa para leitura de três notas parciais de um aluno. O programa deve calcular a média alcançada por aluno e presentar:\n",
    "\n",
    "a. A mensagem \"Aprovado\", se a média for maior ou igual a 7, com a respectiva média alcançada;\n",
    "b. A mensagem \"Reprovado\", se a média for menor do que 7, com a respectiva média alcançada;\n",
    "c. A mensagem \"Aprovado com Distinção\", se a média for igual a 10."
   ]
  },
  {
   "cell_type": "code",
   "execution_count": 33,
   "id": "584d37db",
   "metadata": {},
   "outputs": [
    {
     "name": "stdout",
     "output_type": "stream",
     "text": [
      "N1: 10\n",
      "N3: 10\n",
      "N3: 10\n",
      "Aprovado com Distinção com média 10.0\n"
     ]
    }
   ],
   "source": [
    "n1 = float(input(\"N1: \"))\n",
    "n2 = float(input(\"N3: \"))\n",
    "n3 = float(input(\"N3: \"))\n",
    "\n",
    "media = (n1 + n2 + n3) / 3\n",
    "\n",
    "if media < 7:\n",
    "    print(\"Reprovado com média\", media)\n",
    "else:\n",
    "    if media == 10:\n",
    "        print(\"Aprovado com Distinção com média\", media)\n",
    "    else:\n",
    "        print(\"Aprovado com média\", media)"
   ]
  },
  {
   "cell_type": "markdown",
   "id": "17066c72",
   "metadata": {},
   "source": [
    "21. Faça um Programa para um caixa eletrônico. O programa deverá perguntar ao usuário a valor do saque e depois informar quantas notas de cada valor serão fornecidas. As notas disponíveis serão as de 1, 5, 10, 50 e 100 reais. O valor mínimo é de 10 reais e o máximo de 600 reais. O programa não deve se preocupar com a quantidade de notas existentes na máquina.\n",
    "\n",
    "a. Exemplo 1: Para sacar a quantia de 256 reais, o programa fornece duas notas de 100, uma nota de 50, uma nota de 5 e uma nota de 1;\n",
    "b. Exemplo 2: Para sacar a quantia de 399 reais, o programa fornece três notas de 100, uma nota de 50, quatro notas de 10, uma nota de 5 e quatro notas de 1."
   ]
  },
  {
   "cell_type": "code",
   "execution_count": 44,
   "id": "348ac67e",
   "metadata": {},
   "outputs": [
    {
     "name": "stdout",
     "output_type": "stream",
     "text": [
      "Valor do saque(min: 10 max: 600): 399\n",
      "\n",
      "R$ 100:  3 notas\n",
      "R$ 50:  1 notas\n",
      "R$ 10:  4 notas\n",
      "R$ 5:  1 notas\n",
      "R$ 1:  4 notas\n"
     ]
    }
   ],
   "source": [
    "import sys\n",
    "\n",
    "saque = int(input(\"Valor do saque(min: 10 max: 600): \"))\n",
    "minimo = 10\n",
    "maximo = 600\n",
    "notas100 = 0\n",
    "notas50 = 0\n",
    "notas10 = 0\n",
    "notas5 = 0\n",
    "notas1 = 0\n",
    "resto = 0\n",
    "\n",
    "\n",
    "if 10 <= saque <= 600:\n",
    "    resto = saque\n",
    "    \n",
    "    if resto >= 100:\n",
    "        notas100 = int(resto / 100)\n",
    "        resto = resto - (notas100 * 100)\n",
    "    if resto >= 50:\n",
    "        notas50 = int(resto / 50)\n",
    "        resto = resto - (notas50 * 50)\n",
    "    if resto >= 10:\n",
    "        notas10 = int(resto / 10)\n",
    "        resto = resto - (notas10 * 10)\n",
    "    if resto >= 5:\n",
    "        notas5 = int(resto / 5)\n",
    "        resto = resto - (notas5 * 5)\n",
    "    if resto >= 1:\n",
    "        notas1 = resto\n",
    "else:\n",
    "    print(\"Você não pode sacar este valor! Finalizando a execução\")\n",
    "    sys.exit()\n",
    "    \n",
    "print(\"\\nR$ 100: \", notas100, \"notas\")\n",
    "print(\"R$ 50: \", notas50, \"notas\")\n",
    "print(\"R$ 10: \", notas10, \"notas\")\n",
    "print(\"R$ 5: \", notas5, \"notas\")\n",
    "print(\"R$ 1: \", notas1, \"notas\")"
   ]
  },
  {
   "cell_type": "markdown",
   "id": "cdc031c8",
   "metadata": {},
   "source": [
    "22. Faça um Programa que peça um número inteiro e determine se ele é par ou impar. Dica: utilize o operador módulo (resto da divisão)."
   ]
  },
  {
   "cell_type": "code",
   "execution_count": 55,
   "id": "54875642",
   "metadata": {},
   "outputs": [
    {
     "name": "stdout",
     "output_type": "stream",
     "text": [
      "Digite um número inteiro qualquer: 10\n",
      "O número 10 é par!\n"
     ]
    }
   ],
   "source": [
    "num = int(input(\"Digite um número inteiro qualquer: \"))\n",
    "\n",
    "if num % 2 == 0:\n",
    "    print(\"O número\", num, \"é par!\")\n",
    "else:\n",
    "    print(\"O número\", num, \"é ímpar!\")"
   ]
  },
  {
   "cell_type": "markdown",
   "id": "586d9c45",
   "metadata": {},
   "source": [
    "23. Faça um Programa que peça um número e informe se o número é inteiro ou decimal. Dica: utilize uma função de arredondamento."
   ]
  },
  {
   "cell_type": "code",
   "execution_count": 85,
   "id": "ab7cb0bc",
   "metadata": {},
   "outputs": [
    {
     "name": "stdout",
     "output_type": "stream",
     "text": [
      "Digite um número inteiro ou decimal: 5\n",
      "O número 5.0 é inteiro!\n"
     ]
    }
   ],
   "source": [
    "num = float(input(\"Digite um número inteiro ou decimal: \"))\n",
    "\n",
    "parte_int = int(num)\n",
    "\n",
    "if num >= 1 and num % parte_int == 0:\n",
    "    print(\"O número\", num, \"é inteiro!\")\n",
    "else:\n",
    "    print(\"O número\", num, \"é decimal!\")\n"
   ]
  },
  {
   "cell_type": "markdown",
   "id": "c6d34034",
   "metadata": {},
   "source": [
    "24. Faça um Programa que leia um número e em seguida pergunte ao usuário qual operação ele deseja realizar. O resultado da operação deve ser acompanhado de uma frase que diga se o número é:\n",
    "\n",
    "a. par ou ímpar;\n",
    "b. positivo ou negativo;\n",
    "c. inteiro ou decimal."
   ]
  },
  {
   "cell_type": "code",
   "execution_count": 87,
   "id": "ccae6eaf",
   "metadata": {},
   "outputs": [
    {
     "name": "stdout",
     "output_type": "stream",
     "text": [
      "Digite um valor qualquer: 3\n",
      "Qual operação deseja fazer?\n",
      "\n",
      "1.Par ou ímpar\n",
      "2.Positivo ou negativo\n",
      "3.Inteiro ou decimal\n",
      "3\n",
      "\n",
      "O número 3.0 é inteiro!\n"
     ]
    }
   ],
   "source": [
    "# Este código trata duas situações especiais:\n",
    "# - Números decimais não podem ser classificados como pares ou ímpares.\n",
    "# - A lógica para descobrir se um número é inteiro ou decimal trata o problema da divisão por 0\n",
    "# se a parte_int for 0.\n",
    "num = float(input(\"Digite um valor qualquer: \"))\n",
    "op = int(input(\"Qual operação deseja fazer?\\n\\n1.Par ou ímpar\\n2.Positivo ou negativo\\n3.Inteiro ou decimal\\n\"))\n",
    "parte_int = int(num)\n",
    "\n",
    "if 1 <= op <= 3:\n",
    "    if op == 1:\n",
    "        if num % parte_int == 0:\n",
    "            if num % 2 == 0:\n",
    "                print(\"\\nO número\", num, \"é par!\")\n",
    "            else:\n",
    "                print(\"\\nO número\", num, \"é ímpar!\")\n",
    "        else:\n",
    "            print(\"\\nNúmeros decimais não podem ser classificados como par ou ímpar!\")\n",
    "    elif op == 2:\n",
    "        if num < 0:\n",
    "            print(\"\\nO número\", num, \"é negativo!\")\n",
    "        else:\n",
    "            print(\"\\nO número\", num, \"é positivo!\")\n",
    "    else:\n",
    "        if num >= 1 and num % parte_int == 0:\n",
    "            print(\"\\nO número\", num, \"é inteiro!\")\n",
    "        else:\n",
    "            print(\"\\nO número\", num, \"é decimal!\")\n",
    "else:\n",
    "    print(\"\\nOperação inválida!\")"
   ]
  },
  {
   "cell_type": "markdown",
   "id": "248198ef",
   "metadata": {},
   "source": [
    "25. Faça um programa que faça 5 perguntas para uma pessoa sobre um crime. As perguntas são:\n",
    "\n",
    "a. \"Telefonou para a vítima?\"\n",
    "b. \"Esteve no local do crime?\"\n",
    "c. \"Mora perto da vítima?\"\n",
    "d. \"Devia para a vítima?\"\n",
    "e. \"Já trabalhou com a vítima?\" \n",
    "\n",
    "O programa deve no final emitir uma classificação sobre a participação da pessoa no crime. Se a pessoa responder positivamente a 2 questões ela deve ser classificada como \"Suspeita\", entre 3 e 4 como \"Cúmplice\" e 5 como \"Assassino\". Caso contrário, ele será classificado como \"Inocente\"."
   ]
  },
  {
   "cell_type": "code",
   "execution_count": 99,
   "id": "b2bf8adb",
   "metadata": {},
   "outputs": [
    {
     "name": "stdout",
     "output_type": "stream",
     "text": [
      "Telefonou para a vítima? (S/N)S\n",
      "Esteve no local do crime? (S/N)S\n",
      "Mora perto da vítima? (S/N)S\n",
      "Devia para a vítima? (S/N)S\n",
      "Já trabalhou para a vítima? (S/N)S\n",
      "Assassino!\n"
     ]
    }
   ],
   "source": [
    "# Para fins de rapidez na resolução da lista, respostas inválidas não foram tratadas!\n",
    "classificacao = 0\n",
    "\n",
    "resposta = input(\"Telefonou para a vítima? (S/N)\")\n",
    "if resposta == \"S\":\n",
    "    classificacao += 1\n",
    "\n",
    "resposta = input(\"Esteve no local do crime? (S/N)\")\n",
    "if resposta == \"S\":\n",
    "    classificacao += 1\n",
    "    \n",
    "resposta = input(\"Mora perto da vítima? (S/N)\")\n",
    "if resposta == \"S\":\n",
    "    classificacao += 1\n",
    "    \n",
    "resposta = input(\"Devia para a vítima? (S/N)\")\n",
    "if resposta == \"S\":\n",
    "    classificacao += 1\n",
    "\n",
    "resposta = input(\"Já trabalhou para a vítima? (S/N)\")\n",
    "if resposta == \"S\":\n",
    "    classificacao += 1\n",
    "    \n",
    "if classificacao == 0 or classificacao == 1:\n",
    "    print(\"\\nInocente!\")\n",
    "elif classificacao == 2:\n",
    "    print(\"\\nSuspeito!\")\n",
    "elif 3 <= classificacao <= 4:\n",
    "    print(\"\\nCúmplice!\")\n",
    "else:\n",
    "    print(\"Assassino!\")\n"
   ]
  },
  {
   "cell_type": "markdown",
   "id": "ff4920a6",
   "metadata": {},
   "source": [
    "26. Um posto está vendendo combustíveis com a seguinte tabela de descontos:\n",
    "a. Álcool:\n",
    "    - até 20 litros, desconto de 3% por litro\n",
    "    - acima de 20 litros, desconto de 5% por litro\n",
    "b. Gasolina:\n",
    "    - até 20 litros, desconto de 4% por litro\n",
    "    - acima de 20 litros, desconto de 6% por litro \n",
    "    \n",
    "Escreva um algoritmo que leia o número de litros vendidos, o tipo de combustível (codificado da seguinte forma: A-álcool, G-gasolina), calcule e imprima o valor a ser pago pelo cliente sabendo-se que o preço do litro da gasolina é R$ 2,50 o preço do litro do álcool é R$ 1,90."
   ]
  },
  {
   "cell_type": "code",
   "execution_count": 103,
   "id": "5f242724",
   "metadata": {},
   "outputs": [
    {
     "name": "stdout",
     "output_type": "stream",
     "text": [
      "Litros: 10\n",
      "Tipo combustível (A / G): b\n",
      "Tipo inválido! Finalizando execução.\n"
     ]
    },
    {
     "ename": "SystemExit",
     "evalue": "",
     "output_type": "error",
     "traceback": [
      "An exception has occurred, use %tb to see the full traceback.\n",
      "\u001b[1;31mSystemExit\u001b[0m\n"
     ]
    }
   ],
   "source": [
    "import sys\n",
    "\n",
    "litros = float(input(\"Litros: \"))\n",
    "tipo = input(\"Tipo combustível (A / G): \")\n",
    "preco_alcool = 1.9\n",
    "preco_gasolina = 2.5\n",
    "\n",
    "if tipo.upper() == \"A\":\n",
    "    valor = litros * preco_alcool\n",
    "elif tipo.upper() == \"G\":\n",
    "    valor = litros * preco_gasolina\n",
    "else:\n",
    "    print(\"Tipo inválido! Finalizando execução.\")\n",
    "    sys.exit()\n",
    "    \n",
    "print(\"\\nTotal a pagar:\", valor)"
   ]
  },
  {
   "cell_type": "markdown",
   "id": "463d9c91",
   "metadata": {},
   "source": [
    "27. Uma fruteira está vendendo frutas com a seguinte tabela de preços:\n",
    "                      Até 5 Kg           Acima de 5 Kg\n",
    "Morango         R$ 2,50 por Kg          R$ 2,20 por Kg\n",
    "Maçã            R$ 1,80 por Kg          R$ 1,50 por Kg\n",
    "\n",
    "Se o cliente comprar mais de 8 Kg em frutas ou o valor total da compra ultrapassar R$ 25,00, receberá ainda um desconto de 10 porcento sobre este total. Escreva um algoritmo para ler a quantidade (em Kg) de morangos e a quantidade (em Kg) de maças adquiridas e escreva o valor a ser pago pelo cliente."
   ]
  },
  {
   "cell_type": "code",
   "execution_count": 108,
   "id": "d193e275",
   "metadata": {},
   "outputs": [
    {
     "name": "stdout",
     "output_type": "stream",
     "text": [
      "Morango (KG): 3\n",
      "Maçã (KG): 6\n",
      "\n",
      "Valor total: R$ 16.5\n",
      "Valor com desconto: R$ 14.85\n"
     ]
    }
   ],
   "source": [
    "qtd_morango = float(input(\"Morango (KG): \"))\n",
    "qtd_maca = float(input(\"Maçã (KG): \"))\n",
    "qtd_total = qtd_morango + qtd_maca\n",
    "\n",
    "# Cálculo do valor total\n",
    "valor_total = 0\n",
    "if qtd_morango <= 5:\n",
    "    valor_total = qtd_morango * 2.50\n",
    "else:\n",
    "    valor_total = qtd_morango * 2.2\n",
    "\n",
    "if qtd_maca <= 5: \n",
    "    valor_total = valor_total + qtd_maca * 1.8\n",
    "else:\n",
    "    valor_total = valor_total + qtd_maca * 1.5\n",
    "\n",
    "# Aplicação do desconto\n",
    "if qtd_total >= 8 or valor_total > 25:\n",
    "    valor_descontado = valor_total * 0.9\n",
    "    \n",
    "print(\"\\nValor total: R$\", valor_total)\n",
    "print(\"Valor com desconto: R$\", valor_descontado)"
   ]
  },
  {
   "cell_type": "markdown",
   "id": "8b8572fd",
   "metadata": {},
   "source": [
    "28. O Hipermercado Tabajara está com uma promoção de carnes que é imperdível. Confira:\n",
    "\n",
    "                      Até 5 Kg           Acima de 5 Kg\n",
    "File Duplo      R$ 4,90 por Kg          R$ 5,80 por Kg\n",
    "Alcatra         R$ 5,90 por Kg          R$ 6,80 por Kg\n",
    "Picanha         R$ 6,90 por Kg          R$ 7,80 por Kg\n",
    "\n",
    "Para atender a todos os clientes, cada cliente poderá levar apenas um dos tipos de carne da promoção, porém não há limites para a quantidade de carne por cliente. Se compra for feita no cartão Tabajara o cliente receberá ainda um desconto de 5% sobre o total da compra. Escreva um programa que peça o tipo e a quantidade de carne comprada pelo usuário e gere um cupom fiscal, contendo as informações da compra: tipo e quantidade de carne, preço total, tipo de pagamento, valor do desconto e valor a pagar."
   ]
  },
  {
   "cell_type": "code",
   "execution_count": 117,
   "id": "b35bf6e6",
   "metadata": {},
   "outputs": [
    {
     "name": "stdout",
     "output_type": "stream",
     "text": [
      "Escolha o tipo de carne:\n",
      "1. Filé duplo\n",
      "2. Alcatra\n",
      "3. Picanha\n",
      "4\n",
      "Quantos KG?2\n",
      "Tem cartão? (S/N)n\n",
      "Tipo inválido!\n"
     ]
    },
    {
     "ename": "SystemExit",
     "evalue": "",
     "output_type": "error",
     "traceback": [
      "An exception has occurred, use %tb to see the full traceback.\n",
      "\u001b[1;31mSystemExit\u001b[0m\n"
     ]
    }
   ],
   "source": [
    "import sys\n",
    "\n",
    "tipo = int(input(\"Escolha o tipo de carne:\\n1. Filé duplo\\n2. Alcatra\\n3. Picanha\\n\"))\n",
    "qtd = float(input(\"Quantos KG?\"))\n",
    "cartao = input(\"Tem cartão? (S/N)\")\n",
    "\n",
    "if tipo == 1:\n",
    "    if qtd <= 5:\n",
    "        valor_total = qtd * 4.9\n",
    "    else:\n",
    "        valor_total = qtd * 5.8\n",
    "elif tipo == 2:\n",
    "    if qtd <= 5:\n",
    "        valor_total = qtd * 5.9\n",
    "    else:\n",
    "        valor_total = qtd * 6.8\n",
    "elif tipo == 3:\n",
    "    if qtd <= 5:\n",
    "        valor_total = qtd * 6.9\n",
    "    else:\n",
    "        valor_total = qtd * 7.8\n",
    "else:\n",
    "    print(\"Tipo inválido!\")\n",
    "    sys.exit()\n",
    "    \n",
    "print(\"Valor total da compra: R$\", valor_total)\n",
    "if cartao.upper() == \"S\":\n",
    "    valor_descontado = valor_total * 0.95\n",
    "    print(\"Valor descontado: R$\", valor_descontado)\n",
    "else:\n",
    "    print(\"Sem cartão para desconto.\")"
   ]
  }
 ],
 "metadata": {
  "kernelspec": {
   "display_name": "Python 3",
   "language": "python",
   "name": "python3"
  },
  "language_info": {
   "codemirror_mode": {
    "name": "ipython",
    "version": 3
   },
   "file_extension": ".py",
   "mimetype": "text/x-python",
   "name": "python",
   "nbconvert_exporter": "python",
   "pygments_lexer": "ipython3",
   "version": "3.8.8"
  }
 },
 "nbformat": 4,
 "nbformat_minor": 5
}
