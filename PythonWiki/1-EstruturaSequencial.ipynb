{
 "cells": [
  {
   "cell_type": "markdown",
   "id": "00d84dd9",
   "metadata": {},
   "source": [
    "1. Faça um Programa que mostre a mensagem \"Alo mundo\" na tela."
   ]
  },
  {
   "cell_type": "code",
   "execution_count": 1,
   "id": "a83e32bb",
   "metadata": {},
   "outputs": [
    {
     "name": "stdout",
     "output_type": "stream",
     "text": [
      "Olá, mundo!\n"
     ]
    }
   ],
   "source": [
    "print(\"Olá, mundo!\")"
   ]
  },
  {
   "cell_type": "markdown",
   "id": "43449a1a",
   "metadata": {},
   "source": [
    "2. Faça um Programa que peça um número e então mostre a mensagem O número informado foi [número]."
   ]
  },
  {
   "cell_type": "code",
   "execution_count": 13,
   "id": "e0fe0b33",
   "metadata": {},
   "outputs": [
    {
     "name": "stdout",
     "output_type": "stream",
     "text": [
      "Digite um número: 3.14\n",
      "O número informado é: 3.14\n"
     ]
    }
   ],
   "source": [
    "# input() retorna strings por padrão. Deve ser convertido\n",
    "numero = float(input(\"Digite um número: \"))\n",
    "print('O número informado é: ' + str(numero))"
   ]
  },
  {
   "cell_type": "markdown",
   "id": "44352793",
   "metadata": {},
   "source": [
    "3. Faça um Programa que peça dois números e imprima a soma."
   ]
  },
  {
   "cell_type": "code",
   "execution_count": 14,
   "id": "a1407cfd",
   "metadata": {},
   "outputs": [
    {
     "name": "stdout",
     "output_type": "stream",
     "text": [
      "Digite um valor A: 2\n",
      "Digite um valor B: 3\n",
      "A soma de A + B é:  5.0\n"
     ]
    }
   ],
   "source": [
    "a = float(input(\"Digite um valor A: \"))\n",
    "b = float(input(\"Digite um valor B: \"))\n",
    "\n",
    "print('A soma de A + B é: ', str(a + b))"
   ]
  },
  {
   "cell_type": "markdown",
   "id": "af58cf69",
   "metadata": {},
   "source": [
    "4. Faça um Programa que peça as 4 notas bimestrais e mostre a média."
   ]
  },
  {
   "cell_type": "code",
   "execution_count": 28,
   "id": "960d8b92",
   "metadata": {},
   "outputs": [
    {
     "name": "stdout",
     "output_type": "stream",
     "text": [
      "*****CALCULADORA DE NOTAS BIMESTRAIS*****\n",
      "\n",
      "Nota 1: 2\n",
      "Nota 2: 3\n",
      "Nota 3: 4\n",
      "Nota 4: 5\n",
      "\n",
      "Notas informadas: [2.0, 3.0, 4.0, 5.0]\n",
      "Média:  3.5\n"
     ]
    }
   ],
   "source": [
    "# Há várias formas de fazer este cálculo, mas utilizamos a biblioteca\n",
    "# NumPy que é muito útil para o processamento de grandes arrays e matrizes.\n",
    "import numpy as np\n",
    "\n",
    "print(\"*****CALCULADORA DE NOTAS BIMESTRAIS*****\\n\")\n",
    "\n",
    "notas = []\n",
    "\n",
    "notas.append(float(input(\"Nota 1: \")))\n",
    "notas.append(float(input(\"Nota 2: \")))\n",
    "notas.append(float(input(\"Nota 3: \")))\n",
    "notas.append(float(input(\"Nota 4: \")))\n",
    "\n",
    "print('\\nNotas informadas:', notas)\n",
    "print('Média: ', np.mean(notas))\n"
   ]
  },
  {
   "cell_type": "markdown",
   "id": "da742bd4",
   "metadata": {},
   "source": [
    "5. Faça um Programa que converta metros para centímetros."
   ]
  },
  {
   "cell_type": "code",
   "execution_count": 31,
   "id": "0852850b",
   "metadata": {},
   "outputs": [
    {
     "name": "stdout",
     "output_type": "stream",
     "text": [
      "*****CONVERTER METROS PARA CENTÍMETROS*****\n",
      "\n",
      "Digite o valor em metros: 71.987\n",
      "O valor digitado de 71.987 metros equivale a 7198.7 centímetros\n"
     ]
    }
   ],
   "source": [
    "metros = float(input(\"Digite o valor em metros: \"))\n",
    "centimetros = metros * 100\n",
    "\n",
    "print(\"O valor digitado de\", metros, \"metros equivale a\", centimetros, \"centímetros\")"
   ]
  },
  {
   "cell_type": "markdown",
   "id": "0208bb91",
   "metadata": {},
   "source": [
    "6. Faça um Programa que peça o raio de um círculo, calcule e mostre sua área."
   ]
  },
  {
   "cell_type": "code",
   "execution_count": null,
   "id": "3b434d76",
   "metadata": {},
   "outputs": [],
   "source": [
    "raio = float(input(\"Informe o raio: \"))\n",
    "area = (raio ** 2) * 3.14159265359\n",
    "\n",
    "print(\"O círculo de raio\", raio, \"tem área de\", area)\n"
   ]
  },
  {
   "cell_type": "markdown",
   "id": "798d835b",
   "metadata": {},
   "source": [
    "7. Faça um Programa que calcule a área de um quadrado, em seguida mostre o dobro desta área para o usuário. "
   ]
  },
  {
   "cell_type": "code",
   "execution_count": 41,
   "id": "0d1a40b6",
   "metadata": {},
   "outputs": [
    {
     "name": "stdout",
     "output_type": "stream",
     "text": [
      "*****CALCULAR ÁREA DE UM QUADRADO*****\n",
      "\n",
      "Informe a medida do lado: 10\n",
      "A área do quadrado informado é 100.0 e o dobro dela é 200.0\n"
     ]
    }
   ],
   "source": [
    "lado = float(input(\"Informe a medida do lado: \"))\n",
    "area = lado * lado\n",
    "dobro_area = area * 2\n",
    "\n",
    "print(\"A área do quadrado informado é\", area, \"e o dobro dela é\", dobro_area)\n",
    "\n"
   ]
  },
  {
   "cell_type": "markdown",
   "id": "d634a043",
   "metadata": {},
   "source": [
    "8. Faça um Programa que pergunte quanto você ganha por hora e o número de horas trabalhadas no mês. Calcule e mostre o total do seu salário no referido mês."
   ]
  },
  {
   "cell_type": "code",
   "execution_count": 44,
   "id": "d9c3109d",
   "metadata": {},
   "outputs": [
    {
     "name": "stdout",
     "output_type": "stream",
     "text": [
      "*****CALCULAR SALÁRIO*****\n",
      "\n",
      "Salário/hora: 10\n",
      "Horas trabalhadas (mês): 193\n",
      "\n",
      "Seu salário total é R$ 1930.0\n"
     ]
    }
   ],
   "source": [
    "salario_hora = float(input(\"Salário/hora: \"))\n",
    "horas_trabalhadas = float(input(\"Horas trabalhadas (mês): \"))\n",
    "\n",
    "print(\"\\nSeu salário total é R$\", salario_hora * horas_trabalhadas)\n"
   ]
  },
  {
   "cell_type": "markdown",
   "id": "fdb1b602",
   "metadata": {},
   "source": [
    "9. Faça um Programa que peça a temperatura em graus Fahrenheit, transforme e mostre a temperatura em graus Celsius.\n",
    "C = 5 * ((F-32) / 9)."
   ]
  },
  {
   "cell_type": "code",
   "execution_count": 48,
   "id": "26d6b759",
   "metadata": {},
   "outputs": [
    {
     "name": "stdout",
     "output_type": "stream",
     "text": [
      "*****CONVERSOR DE FAHRENHEIT PARA CELSIUS*****\n",
      "\n",
      "Fahrenheit: 78\n",
      "\n",
      " 78.0 ºF = 25.555555555555554 ºC\n"
     ]
    }
   ],
   "source": [
    "temp_f = float(input(\"Fahrenheit: \"))\n",
    "temp_c = 5 * ((temp_f - 32) / 9)\n",
    "\n",
    "print(\"\\n\", temp_f, \"ºF =\", temp_c, \"ºC\")"
   ]
  },
  {
   "cell_type": "markdown",
   "id": "ab7cbf38",
   "metadata": {},
   "source": [
    "10. Faça um Programa que peça a temperatura em graus Celsius, transforme e mostre em graus Fahrenheit."
   ]
  },
  {
   "cell_type": "code",
   "execution_count": 52,
   "id": "34cd42d5",
   "metadata": {},
   "outputs": [
    {
     "name": "stdout",
     "output_type": "stream",
     "text": [
      "*****CONVERSOR DE CELSIUS PARA FAHRENHEIT*****\n",
      "\n",
      "Celsius: 38\n",
      "\n",
      " 38.0 ºC = 100.4 ºF\n"
     ]
    }
   ],
   "source": [
    "temp_c = float(input(\"Celsius: \"))\n",
    "temp_f = (temp_c * 9) / 5 + 32\n",
    "\n",
    "print(\"\\n\", temp_c, \"ºC =\", temp_f, \"ºF\")\n"
   ]
  },
  {
   "cell_type": "markdown",
   "id": "a41c542d",
   "metadata": {},
   "source": [
    "11. Faça um Programa que peça 2 números inteiros e um número real. Calcule e mostre:\n",
    "a. o produto do dobro do primeiro com metade do segundo .\n",
    "b. a soma do triplo do primeiro com o terceiro.\n",
    "c. o terceiro elevado ao cubo."
   ]
  },
  {
   "cell_type": "code",
   "execution_count": 61,
   "id": "8702b9d7",
   "metadata": {},
   "outputs": [
    {
     "name": "stdout",
     "output_type": "stream",
     "text": [
      "Digite um número inteiro A: 0\n",
      "Digite um número inteiro B: 0\n",
      "Digite um número real C: 0\n",
      "\n",
      "a. Produto do dobro do primeiro com metade do segundo: 0.0\n",
      "b. Soma do triplo do primeiro com o terceiro: 0.0\n",
      "c. Terceiro elevado ao cubo: 0.0\n"
     ]
    }
   ],
   "source": [
    "int_a = int(input(\"Digite um número inteiro A: \"))\n",
    "int_b = int(input(\"Digite um número inteiro B: \"))\n",
    "float_c = float(input(\"Digite um número real C: \"))\n",
    "\n",
    "print(\"\\na. Produto do dobro do primeiro com metade do segundo:\", (int_a * 2) * (int_b/2))\n",
    "print(\"b. Soma do triplo do primeiro com o terceiro:\", int_a * 3 + float_c)\n",
    "print(\"c. Terceiro elevado ao cubo:\", float_c ** 3)"
   ]
  },
  {
   "cell_type": "markdown",
   "id": "4e4ac505",
   "metadata": {},
   "source": [
    "12. Tendo como dados de entrada a altura de uma pessoa, construa um algoritmo que calcule seu peso ideal, usando a seguinte fórmula: (72.7*altura) - 58"
   ]
  },
  {
   "cell_type": "code",
   "execution_count": 62,
   "id": "acf7e05f",
   "metadata": {},
   "outputs": [
    {
     "name": "stdout",
     "output_type": "stream",
     "text": [
      "Qual é a sua altura?1.70\n",
      "\n",
      "Seu peso ideal para 1.7 é 64.74\n"
     ]
    }
   ],
   "source": [
    "altura = float(input(\"Qual é a sua altura? \"))\n",
    "\n",
    "peso_ideal = (72.2 * altura) - 58\n",
    "\n",
    "print(\"\\nSeu peso ideal para\", altura, \"é\", peso_ideal)\n"
   ]
  },
  {
   "cell_type": "markdown",
   "id": "848401ac",
   "metadata": {},
   "source": [
    "13. Tendo como dado de entrada a altura (h) de uma pessoa, construa um algoritmo que calcule seu peso ideal, utilizando as seguintes fórmulas:"
   ]
  },
  {
   "cell_type": "code",
   "execution_count": 66,
   "id": "7efa04d9",
   "metadata": {},
   "outputs": [
    {
     "name": "stdout",
     "output_type": "stream",
     "text": [
      "Qual é a sua altura? 1.7\n",
      "\n",
      "Seu peso ideal para 1.7 é 64.74 se for homem ou 60.86999999999999 se for mulher\n"
     ]
    }
   ],
   "source": [
    "# Este programa poderia muito bem utilizar um segundo input com char SEXO e um if para dar uma resposta\n",
    "# diferente dependendo do sexo, mas o intuito desta lista de exercícios ainda não é abordar o conceito\n",
    "# de condicional.\n",
    "altura = float(input(\"Qual é a sua altura? \"))\n",
    "\n",
    "peso_ideal_m = (72.2 * altura) - 58\n",
    "peso_ideal_f = (62.1 * altura) - 44.7\n",
    "\n",
    "print(\"\\nSeu peso ideal para\", altura, \"é\", peso_ideal_m, \"se for homem ou\", peso_ideal_f, \"se for mulher\")"
   ]
  },
  {
   "cell_type": "markdown",
   "id": "de35579e",
   "metadata": {},
   "source": [
    "14. João Papo-de-Pescador, homem de bem, comprou um microcomputador para controlar o rendimento diário de seu trabalho. Toda vez que ele traz um peso de peixes maior que o estabelecido pelo regulamento de pesca do estado de São Paulo (50 quilos) deve pagar uma multa de R$ 4,00 por quilo excedente. João precisa que você faça um programa que leia a variável peso (peso de peixes) e calcule o excesso. Gravar na variável excesso a quantidade de quilos além do limite e na variável multa o valor da multa que João deverá pagar. Imprima os dados do programa com as mensagens adequadas."
   ]
  },
  {
   "cell_type": "code",
   "execution_count": 70,
   "id": "1f0d5bbc",
   "metadata": {},
   "outputs": [
    {
     "name": "stdout",
     "output_type": "stream",
     "text": [
      "Quantos KG de peixe você pescou? 54\n",
      "\n",
      "Quilos excedentes: 4.0\n",
      "Multa a pagar: 16.0\n"
     ]
    }
   ],
   "source": [
    "# Note bem que, se o excedente for negativo, o valor da multa será negativo pois este programa\n",
    "# propositalmente não foi tratado com um if.\n",
    "quilos_peixe = float(input(\"Quantos KG de peixe você pescou? \"))\n",
    "\n",
    "excesso = quilos_peixe - 50\n",
    "multa = excesso * 4\n",
    "\n",
    "print(\"\\nQuilos excedentes:\", excesso)\n",
    "print(\"Multa a pagar:\", multa)"
   ]
  },
  {
   "cell_type": "markdown",
   "id": "caeaa361",
   "metadata": {},
   "source": [
    "15. Faça um Programa que pergunte quanto você ganha por hora e o número de horas trabalhadas no mês. Calcule e mostre o total do seu salário no referido mês, sabendo-se que são descontados 11% para o Imposto de Renda, 8% para o INSS e 5% para o sindicato, faça um programa que nos dê:\n",
    "a. salário bruto.\n",
    "b. quanto pagou ao INSS.\n",
    "c. quanto pagou ao sindicato.\n",
    "d. o salário líquido.\n",
    "e. calcule os descontos e o salário líquido, conforme a tabela abaixo:"
   ]
  },
  {
   "cell_type": "code",
   "execution_count": 73,
   "id": "cbea3a9a",
   "metadata": {},
   "outputs": [
    {
     "name": "stdout",
     "output_type": "stream",
     "text": [
      "Salário/h: 5.68\n",
      "Horas/mês: 175\n",
      "\n",
      "+ Salário Bruto: R$ 994.0\n",
      "- IR (11%): R$ 109.34\n",
      "- INSS (8%): R$ 79.52\n",
      "- Sindicato (5%): R$ 49.7\n",
      "= Salário Líquido: R$ 755.4399999999999\n"
     ]
    }
   ],
   "source": [
    "salario_hora = float(input(\"Salário/h: \"))\n",
    "horas_mes = float(input(\"Horas/mês: \"))\n",
    "\n",
    "salario_bruto = salario_hora * horas_mes\n",
    "imposto_renda = salario_bruto * 0.11\n",
    "inss = salario_bruto * 0.08\n",
    "sindicato = salario_bruto * 0.05\n",
    "salario_liquido = salario_bruto - imposto_renda - inss - sindicato\n",
    "\n",
    "print(\"\\n+ Salário Bruto: R$\", salario_bruto)\n",
    "print(\"- IR (11%): R$\", imposto_renda)\n",
    "print(\"- INSS (8%): R$\", inss)\n",
    "print(\"- Sindicato (5%): R$\", sindicato)\n",
    "print(\"= Salário Líquido: R$\", salario_liquido)"
   ]
  },
  {
   "cell_type": "markdown",
   "id": "0219f380",
   "metadata": {},
   "source": [
    "16. Faça um programa para uma loja de tintas. O programa deverá pedir o tamanho em metros quadrados da área a ser pintada. Considere que a cobertura da tinta é de 1 litro para cada 3 metros quadrados e que a tinta é vendida em latas de 18 litros, que custam R$ 80,00. Informe ao usuário a quantidades de latas de tinta a serem compradas e o preço total."
   ]
  },
  {
   "cell_type": "code",
   "execution_count": 76,
   "id": "e8210bf9",
   "metadata": {},
   "outputs": [
    {
     "name": "stdout",
     "output_type": "stream",
     "text": [
      "Área a ser pintada (m^2): 70\n",
      "Latas necessárias: 1.2962962962962963\n",
      "Custo: R$ 103.7037037037037\n"
     ]
    }
   ],
   "source": [
    "area = float(input(\"Área a ser pintada (m^2): \"))\n",
    "\n",
    "litros = area / 3\n",
    "latas = litros / 18\n",
    "custo = latas * 80\n",
    "\n",
    "print(\"Latas necessárias:\", latas)\n",
    "print(\"Custo: R$\", custo)\n"
   ]
  },
  {
   "cell_type": "markdown",
   "id": "429bbccf",
   "metadata": {},
   "source": [
    "17. Faça um Programa para uma loja de tintas. O programa deverá pedir o tamanho em metros quadrados da área a ser pintada. Considere que a cobertura da tinta é de 1 litro para cada 6 metros quadrados e que a tinta é vendida em latas de 18 litros, que custam R$ 80,00 ou em galões de 3,6 litros, que custam R$ 25,00.\n",
    "Informe ao usuário as quantidades de tinta a serem compradas e os respectivos preços em 3 situações:\n",
    "a. comprar apenas latas de 18 litros;\n",
    "b. comprar apenas galões de 3,6 litros;\n",
    "c. misturar latas e galões, de forma que o desperdício de tinta seja menor. Acrescente 10% de folga e sempre arredonde os valores para cima, isto é, considere latas cheias."
   ]
  },
  {
   "cell_type": "code",
   "execution_count": 85,
   "id": "ea6deaaa",
   "metadata": {},
   "outputs": [
    {
     "name": "stdout",
     "output_type": "stream",
     "text": [
      "Área a ser pintada (m^2): 70\n",
      "\n",
      "Litros necessários:  11.666666666666666\n",
      "a. Comprando apenas latas de 18L: 0.6481481481481481 latas = R$ 51.85185185185185\n",
      "b. Comprando apenas galões de 3.6L: 3.2407407407407405 galoes = R$ 81.0185185185185\n"
     ]
    }
   ],
   "source": [
    "# Problema na lógica. Não consegui resolver! Fazer a conta no papel primeiro para depois programar.\n",
    "area = float(input(\"Área a ser pintada (m^2): \"))\n",
    "\n",
    "litros = area / 6\n",
    "latas = litros / 18\n",
    "galoes = litros / 3.6\n",
    "\n",
    "print(\"\\nLitros necessários: \", litros)\n",
    "print(\"a. Comprando apenas latas de 18L:\", latas, \"latas = R$\", latas * 80)\n",
    "print(\"b. Comprando apenas galões de 3.6L:\", galoes, \"galoes = R$\", galoes * 25)\n",
    "\n"
   ]
  },
  {
   "cell_type": "markdown",
   "id": "44ad9f3a",
   "metadata": {},
   "source": [
    "18. Faça um programa que peça o tamanho de um arquivo para download (em MB) e a velocidade de um link de Internet (em Mbps), calcule e informe o tempo aproximado de download do arquivo usando este link (em minutos)."
   ]
  },
  {
   "cell_type": "code",
   "execution_count": 92,
   "id": "305d5b6a",
   "metadata": {},
   "outputs": [
    {
     "name": "stdout",
     "output_type": "stream",
     "text": [
      "Tamanho do arquivo (MB): 15\n",
      "Velocidade (Mbps): 10\n",
      "\n",
      "Tempo para download:  12.0 segundos\n"
     ]
    }
   ],
   "source": [
    "# Vi muitos códigos da solução deste exercício no Github mas acredito que a maioria está errado porque\n",
    "# não converteram a velocidade de Megabits/s para Megabytes/s.\n",
    "tamanho = float(input(\"Tamanho do arquivo (MB): \"))\n",
    "velocidade_mbits = float(input(\"Velocidade (Mbps): \"))\n",
    "\n",
    "velocidade_mbytes = velocidade_mbits / 8\n",
    "tempo = tamanho / velocidade_mbytes\n",
    "\n",
    "print(\"\\nTempo para download: \", tempo, \"segundos\")\n",
    "\n"
   ]
  }
 ],
 "metadata": {
  "kernelspec": {
   "display_name": "Python 3",
   "language": "python",
   "name": "python3"
  },
  "language_info": {
   "codemirror_mode": {
    "name": "ipython",
    "version": 3
   },
   "file_extension": ".py",
   "mimetype": "text/x-python",
   "name": "python",
   "nbconvert_exporter": "python",
   "pygments_lexer": "ipython3",
   "version": "3.8.8"
  }
 },
 "nbformat": 4,
 "nbformat_minor": 5
}
