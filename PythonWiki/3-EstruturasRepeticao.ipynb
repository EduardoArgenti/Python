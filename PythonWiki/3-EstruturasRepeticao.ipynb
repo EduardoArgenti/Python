{
 "cells": [
  {
   "cell_type": "markdown",
   "id": "141ea627",
   "metadata": {},
   "source": [
    "1. Faça um programa que peça uma nota, entre zero e dez. Mostre uma mensagem caso o valor seja inválido e continue pedindo até que o usuário informe um valor válido."
   ]
  },
  {
   "cell_type": "code",
   "execution_count": null,
   "id": "b9f61ac2",
   "metadata": {},
   "outputs": [
    {
     "name": "stdout",
     "output_type": "stream",
     "text": [
      "Nota: -0.00008\n"
     ]
    }
   ],
   "source": [
    "nota = float(input(\"Nota: \"))\n",
    "\n",
    "while nota < 0 or nota > 10:\n",
    "    nota = float(input(\"Nota inválida! Digite novamente: \"))\n",
    "    \n",
    "print(\"Nota\", nota, \"é válida!\")"
   ]
  },
  {
   "cell_type": "markdown",
   "id": "d7881b78",
   "metadata": {},
   "source": [
    "2. Faça um programa que leia um nome de usuário e a sua senha e não aceite a senha igual ao nome do usuário, mostrando uma mensagem de erro e voltando a pedir as informações."
   ]
  },
  {
   "cell_type": "code",
   "execution_count": 2,
   "id": "511b91ac",
   "metadata": {},
   "outputs": [
    {
     "name": "stdout",
     "output_type": "stream",
     "text": [
      "Nome: nome\n",
      "Senha: nome\n",
      "A senha não pode ser igual ao nome! Digite novamente: \n",
      "Nome: nome\n",
      "Senha: nome\n",
      "A senha não pode ser igual ao nome! Digite novamente: \n",
      "Nome: nome\n",
      "Senha: senha\n",
      "Nome: nome e Senha: senha são válidos\n"
     ]
    }
   ],
   "source": [
    "nome = input(\"Nome: \")\n",
    "senha = input(\"Senha: \")\n",
    "\n",
    "while nome == senha:\n",
    "    print(\"A senha não pode ser igual ao nome! Digite novamente: \")\n",
    "    nome = input(\"Nome: \")\n",
    "    senha = input(\"Senha: \")\n",
    "    \n",
    "    \n",
    "print(\"Nome:\", nome, \"e Senha:\", senha, \"são válidos\")"
   ]
  },
  {
   "cell_type": "markdown",
   "id": "33e2cee6",
   "metadata": {},
   "source": [
    "3. Faça um programa que leia e valide as seguintes informações:\n",
    "\n",
    "a. Nome: maior que 3 caracteres;\n",
    "b. Idade: entre 0 e 150;\n",
    "c. Salário: maior que zero;\n",
    "d. Sexo: 'f' ou 'm';\n",
    "e. Estado Civil: 's', 'c', 'v', 'd';"
   ]
  },
  {
   "cell_type": "code",
   "execution_count": 14,
   "id": "2b589d89",
   "metadata": {},
   "outputs": [
    {
     "name": "stdout",
     "output_type": "stream",
     "text": [
      "Nome completo: Dudu\n",
      "Idade: 23\n",
      "Salário: 1500\n",
      "Sexo: c\n",
      "O sexo deve ser F ou M! Tente novamente.\n",
      "Sexo: y\n",
      "O sexo deve ser F ou M! Tente novamente.\n",
      "Sexo: M\n",
      "Estado civil: E\n",
      "O estado civil deve ser S, C, V ou D! Tente novamente.\n",
      "Estado civil: S\n"
     ]
    }
   ],
   "source": [
    "nome = input(\"Nome completo: \")\n",
    "while len(nome) <= 3:\n",
    "    print(\"O nome precisa ter no mínimo 4 letras! Tente novamente.\")\n",
    "    nome = input(\"Nome completo: \")\n",
    "    \n",
    "idade = int(input(\"Idade: \"))\n",
    "while idade < 0 or idade > 150:\n",
    "    print(\"A idade precisa estar entre 0 e 150 anos! Tente novamente.\")\n",
    "    idade = int(input(\"Idade: \"))\n",
    "    \n",
    "salario = float(input(\"Salário: \"))\n",
    "while salario < 0:\n",
    "    print(\"O salário deve ser maior que zero! Tente novamente.\")\n",
    "    salario = float(input(\"Salário: \"))\n",
    "    \n",
    "sexo = input(\"Sexo: \")\n",
    "while sexo.lower() not in \"fm\":\n",
    "    print(\"O sexo deve ser F ou M! Tente novamente.\")\n",
    "    sexo = input(\"Sexo: \")\n",
    "\n",
    "estado_civil = input(\"Estado civil: \")\n",
    "while estado_civil.lower() not in \"scvd\":\n",
    "    print(\"O estado civil deve ser S, C, V ou D! Tente novamente.\")\n",
    "    estado_civil = input(\"Estado civil: \")\n"
   ]
  },
  {
   "cell_type": "markdown",
   "id": "df2f7c28",
   "metadata": {},
   "source": [
    "4. Supondo que a população de um país A seja da ordem de 80000 habitantes com uma taxa anual de crescimento de 3% e que a população de B seja 200000 habitantes com uma taxa de crescimento de 1.5%. Faça um programa que calcule e escreva o número de anos necessários para que a população do país A ultrapasse ou iguale a população do país B, mantidas as taxas de crescimento."
   ]
  },
  {
   "cell_type": "code",
   "execution_count": 21,
   "id": "928bf6dd",
   "metadata": {},
   "outputs": [
    {
     "name": "stdout",
     "output_type": "stream",
     "text": [
      "\n",
      "Ano: 2022 \n",
      "A: 82400 habitantes \n",
      "B: 202999 habitantes\n",
      "\n",
      "Ano: 2023 \n",
      "A: 84872 habitantes \n",
      "B: 206044 habitantes\n",
      "\n",
      "Ano: 2024 \n",
      "A: 87418 habitantes \n",
      "B: 209135 habitantes\n",
      "\n",
      "Ano: 2025 \n",
      "A: 90040 habitantes \n",
      "B: 212272 habitantes\n",
      "\n",
      "Ano: 2026 \n",
      "A: 92741 habitantes \n",
      "B: 215456 habitantes\n",
      "\n",
      "Ano: 2027 \n",
      "A: 95524 habitantes \n",
      "B: 218688 habitantes\n",
      "\n",
      "Ano: 2028 \n",
      "A: 98389 habitantes \n",
      "B: 221968 habitantes\n",
      "\n",
      "Ano: 2029 \n",
      "A: 101341 habitantes \n",
      "B: 225298 habitantes\n",
      "\n",
      "Ano: 2030 \n",
      "A: 104381 habitantes \n",
      "B: 228677 habitantes\n",
      "\n",
      "Ano: 2031 \n",
      "A: 107513 habitantes \n",
      "B: 232108 habitantes\n",
      "\n",
      "Ano: 2032 \n",
      "A: 110738 habitantes \n",
      "B: 235589 habitantes\n",
      "\n",
      "Ano: 2033 \n",
      "A: 114060 habitantes \n",
      "B: 239123 habitantes\n",
      "\n",
      "Ano: 2034 \n",
      "A: 117482 habitantes \n",
      "B: 242710 habitantes\n",
      "\n",
      "Ano: 2035 \n",
      "A: 121007 habitantes \n",
      "B: 246351 habitantes\n",
      "\n",
      "Ano: 2036 \n",
      "A: 124637 habitantes \n",
      "B: 250046 habitantes\n",
      "\n",
      "Ano: 2037 \n",
      "A: 128376 habitantes \n",
      "B: 253797 habitantes\n",
      "\n",
      "Ano: 2038 \n",
      "A: 132227 habitantes \n",
      "B: 257604 habitantes\n",
      "\n",
      "Ano: 2039 \n",
      "A: 136194 habitantes \n",
      "B: 261468 habitantes\n",
      "\n",
      "Ano: 2040 \n",
      "A: 140280 habitantes \n",
      "B: 265390 habitantes\n",
      "\n",
      "Ano: 2041 \n",
      "A: 144488 habitantes \n",
      "B: 269371 habitantes\n",
      "\n",
      "Ano: 2042 \n",
      "A: 148823 habitantes \n",
      "B: 273411 habitantes\n",
      "\n",
      "Ano: 2043 \n",
      "A: 153288 habitantes \n",
      "B: 277512 habitantes\n",
      "\n",
      "Ano: 2044 \n",
      "A: 157886 habitantes \n",
      "B: 281675 habitantes\n",
      "\n",
      "Ano: 2045 \n",
      "A: 162623 habitantes \n",
      "B: 285900 habitantes\n",
      "\n",
      "Ano: 2046 \n",
      "A: 167502 habitantes \n",
      "B: 290189 habitantes\n",
      "\n",
      "Ano: 2047 \n",
      "A: 172527 habitantes \n",
      "B: 294541 habitantes\n",
      "\n",
      "Ano: 2048 \n",
      "A: 177703 habitantes \n",
      "B: 298960 habitantes\n",
      "\n",
      "Ano: 2049 \n",
      "A: 183034 habitantes \n",
      "B: 303444 habitantes\n",
      "\n",
      "Ano: 2050 \n",
      "A: 188525 habitantes \n",
      "B: 307996 habitantes\n",
      "\n",
      "Ano: 2051 \n",
      "A: 194180 habitantes \n",
      "B: 312616 habitantes\n",
      "\n",
      "Ano: 2052 \n",
      "A: 200006 habitantes \n",
      "B: 317305 habitantes\n",
      "\n",
      "Ano: 2053 \n",
      "A: 206006 habitantes \n",
      "B: 322064 habitantes\n",
      "\n",
      "Ano: 2054 \n",
      "A: 212186 habitantes \n",
      "B: 326895 habitantes\n",
      "\n",
      "Ano: 2055 \n",
      "A: 218552 habitantes \n",
      "B: 331799 habitantes\n",
      "\n",
      "Ano: 2056 \n",
      "A: 225108 habitantes \n",
      "B: 336776 habitantes\n",
      "\n",
      "Ano: 2057 \n",
      "A: 231862 habitantes \n",
      "B: 341827 habitantes\n",
      "\n",
      "Ano: 2058 \n",
      "A: 238818 habitantes \n",
      "B: 346955 habitantes\n",
      "\n",
      "Ano: 2059 \n",
      "A: 245982 habitantes \n",
      "B: 352159 habitantes\n",
      "\n",
      "Ano: 2060 \n",
      "A: 253362 habitantes \n",
      "B: 357442 habitantes\n",
      "\n",
      "Ano: 2061 \n",
      "A: 260963 habitantes \n",
      "B: 362803 habitantes\n",
      "\n",
      "Ano: 2062 \n",
      "A: 268791 habitantes \n",
      "B: 368245 habitantes\n",
      "\n",
      "Ano: 2063 \n",
      "A: 276855 habitantes \n",
      "B: 373769 habitantes\n",
      "\n",
      "Ano: 2064 \n",
      "A: 285161 habitantes \n",
      "B: 379375 habitantes\n",
      "\n",
      "Ano: 2065 \n",
      "A: 293716 habitantes \n",
      "B: 385066 habitantes\n",
      "\n",
      "Ano: 2066 \n",
      "A: 302527 habitantes \n",
      "B: 390842 habitantes\n",
      "\n",
      "Ano: 2067 \n",
      "A: 311603 habitantes \n",
      "B: 396705 habitantes\n",
      "\n",
      "Ano: 2068 \n",
      "A: 320951 habitantes \n",
      "B: 402655 habitantes\n",
      "\n",
      "Ano: 2069 \n",
      "A: 330580 habitantes \n",
      "B: 408695 habitantes\n",
      "\n",
      "Ano: 2070 \n",
      "A: 340497 habitantes \n",
      "B: 414826 habitantes\n",
      "\n",
      "Ano: 2071 \n",
      "A: 350712 habitantes \n",
      "B: 421048 habitantes\n",
      "\n",
      "Ano: 2072 \n",
      "A: 361233 habitantes \n",
      "B: 427364 habitantes\n",
      "\n",
      "Ano: 2073 \n",
      "A: 372070 habitantes \n",
      "B: 433774 habitantes\n",
      "\n",
      "Ano: 2074 \n",
      "A: 383232 habitantes \n",
      "B: 440281 habitantes\n",
      "\n",
      "Ano: 2075 \n",
      "A: 394729 habitantes \n",
      "B: 446885 habitantes\n",
      "\n",
      "Ano: 2076 \n",
      "A: 406571 habitantes \n",
      "B: 453588 habitantes\n",
      "\n",
      "Ano: 2077 \n",
      "A: 418769 habitantes \n",
      "B: 460392 habitantes\n",
      "\n",
      "Ano: 2078 \n",
      "A: 431332 habitantes \n",
      "B: 467298 habitantes\n",
      "\n",
      "Ano: 2079 \n",
      "A: 444272 habitantes \n",
      "B: 474307 habitantes\n",
      "\n",
      "Ano: 2080 \n",
      "A: 457600 habitantes \n",
      "B: 481422 habitantes\n",
      "\n",
      "Ano: 2081 \n",
      "A: 471328 habitantes \n",
      "B: 488643 habitantes\n",
      "\n",
      "Ano: 2082 \n",
      "A: 485468 habitantes \n",
      "B: 495973 habitantes\n",
      "\n",
      "Ano: 2083 \n",
      "A: 500032 habitantes \n",
      "B: 503413 habitantes\n",
      "\n",
      "Ano: 2084 \n",
      "A: 515033 habitantes \n",
      "B: 510964 habitantes\n",
      "Levarão 63 anos para que a população de A seja maior que B.\n",
      "\n",
      "No ano de 2084 teremos:\n",
      "A: 515033 habitantes \n",
      "B: 510964 habitantes\n"
     ]
    }
   ],
   "source": [
    "# Biblioteca necessária para comparar o ano atual\n",
    "from datetime import datetime\n",
    "\n",
    "pop_a = 80000\n",
    "pop_b = 200000\n",
    "\n",
    "taxa_a = 1.03\n",
    "taxa_b = 1.015\n",
    "\n",
    "anos = 0\n",
    "\n",
    "while pop_a < pop_b:\n",
    "    pop_a = pop_a * taxa_a\n",
    "    pop_b = pop_b * taxa_b\n",
    "    anos += 1\n",
    "    print(\"\\nAno:\", datetime.now().year + anos, \"\\nA:\", int(pop_a), \"habitantes\", \"\\nB:\", int(pop_b), \"habitantes\")\n",
    "    \n",
    "print(\"Levarão\", anos, \"anos para que a população de A seja maior que B.\")\n",
    "print(\"\\nNo ano de\", datetime.now().year + anos, \"teremos:\")\n",
    "print(\"A:\", int(pop_a), \"habitantes\", \"\\nB:\", int(pop_b), \"habitantes\")"
   ]
  },
  {
   "cell_type": "markdown",
   "id": "d81f7d3d",
   "metadata": {},
   "source": [
    "5. Altere o programa anterior permitindo ao usuário informar as populações e as taxas de crescimento iniciais. Valide a entrada e permita repetir a operação."
   ]
  },
  {
   "cell_type": "code",
   "execution_count": 26,
   "id": "85c76e19",
   "metadata": {},
   "outputs": [
    {
     "name": "stdout",
     "output_type": "stream",
     "text": [
      "População A: 300\n",
      "Taxa de crescimento A: 1\n",
      "População B: 200\n",
      "Taxa de crescimento B: 0\n",
      "Levarão 0 anos para que a população de A seja maior que B.\n",
      "\n",
      "No ano de 2021 teremos:\n",
      "A: 300 habitantes \n",
      "B: 200 habitantes\n"
     ]
    }
   ],
   "source": [
    "# Biblioteca necessária para comparar o ano atual\n",
    "from datetime import datetime\n",
    "\n",
    "pop_a = int(input(\"População A: \"))\n",
    "taxa_a = float(input(\"Taxa de crescimento A: \"))\n",
    "pop_b = int(input(\"População B: \"))\n",
    "taxa_b = float(input(\"Taxa de crescimento B: \"))\n",
    "\n",
    "anos = 0\n",
    "\n",
    "while taxa_a < taxa_b:\n",
    "    print(\"A taxa de crescimento de A deve ser menor que a de B! Tente novamente.\")\n",
    "    taxa_a = float(input(\"Taxa de crescimento A: \"))\n",
    "\n",
    "while pop_a < pop_b:\n",
    "    pop_a = pop_a * taxa_a\n",
    "    pop_b = pop_b * taxa_b\n",
    "    anos += 1\n",
    "    \n",
    "print(\"Levarão\", anos, \"anos para que a população de A seja maior que B.\")\n",
    "print(\"\\nNo ano de\", datetime.now().year + anos, \"teremos:\")\n",
    "print(\"A:\", int(pop_a), \"habitantes\", \"\\nB:\", int(pop_b), \"habitantes\")"
   ]
  },
  {
   "cell_type": "markdown",
   "id": "74faf55e",
   "metadata": {},
   "source": [
    "6. Faça um programa que imprima na tela os números de 1 a 20, um abaixo do outro. Depois modifique o programa para que ele mostre os números um ao lado do outro."
   ]
  },
  {
   "cell_type": "code",
   "execution_count": 36,
   "id": "cdab31f4",
   "metadata": {},
   "outputs": [
    {
     "name": "stdout",
     "output_type": "stream",
     "text": [
      "1\n",
      "2\n",
      "3\n",
      "4\n",
      "5\n",
      "6\n",
      "7\n",
      "8\n",
      "9\n",
      "10\n",
      "11\n",
      "12\n",
      "13\n",
      "14\n",
      "15\n",
      "16\n",
      "17\n",
      "18\n",
      "19\n",
      "20\n",
      "1 2 3 4 5 6 7 8 9 10 11 12 13 14 15 16 17 18 19 20 "
     ]
    }
   ],
   "source": [
    "# Mostrar um número abaixo do outro\n",
    "i = 1\n",
    "\n",
    "while 1 <= i <= 20:\n",
    "    print(i)\n",
    "    i += 1\n",
    "\n",
    "# Mostrar um número ao lado do outro\n",
    "i = 1\n",
    "while 1 <= i <= 20:\n",
    "    # Por padrão, print() termina com uma newline. Usando o parâmetro end, podemos alterar isto.\n",
    "    print(i, end = ' ')\n",
    "    i += 1\n"
   ]
  },
  {
   "cell_type": "markdown",
   "id": "fb006aa3",
   "metadata": {},
   "source": [
    "7. Faça um programa que leia 5 números e informe o maior número."
   ]
  },
  {
   "cell_type": "code",
   "execution_count": 52,
   "id": "f0fa930f",
   "metadata": {},
   "outputs": [
    {
     "name": "stdout",
     "output_type": "stream",
     "text": [
      "Digite o número 1 : \n",
      "0\n",
      "Digite o número 2 : \n",
      "20\n",
      "Digite o número 3 : \n",
      "2\n",
      "Digite o número 4 : \n",
      "3\n",
      "Digite o número 5 : \n",
      "4\n",
      "\n",
      " [0.0, 20.0, 2.0, 3.0, 4.0]\n",
      "O maior número da lista é 20.0\n"
     ]
    }
   ],
   "source": [
    "numeros = []\n",
    "i = 1\n",
    "maior = 0\n",
    "\n",
    "while i <= 5:\n",
    "    print(\"Digite o número\", i, \": \")\n",
    "    temp = float(input())\n",
    "    numeros.append(temp)\n",
    "    if temp > maior:\n",
    "        maior = temp\n",
    "    i += 1\n",
    "    \n",
    "print(\"\\n\", numeros)\n",
    "print(\"O maior número da lista é\", maior)"
   ]
  },
  {
   "cell_type": "markdown",
   "id": "ed00d1e4",
   "metadata": {},
   "source": [
    "8. Faça um programa que leia 5 números e informe a soma e a média dos números."
   ]
  },
  {
   "cell_type": "code",
   "execution_count": 55,
   "id": "2de01b3c",
   "metadata": {},
   "outputs": [
    {
     "name": "stdout",
     "output_type": "stream",
     "text": [
      "Digite o número 1 : \n",
      "90\n",
      "Digite o número 2 : \n",
      "80\n",
      "Digite o número 3 : \n",
      "70\n",
      "Digite o número 4 : \n",
      "60\n",
      "Digite o número 5 : \n",
      "50\n",
      "Lista:  [90.0, 80.0, 70.0, 60.0, 50.0]\n",
      "Soma dos elementos:  350.0\n",
      "Média dos elementos:  70.0\n"
     ]
    }
   ],
   "source": [
    "numeros = []\n",
    "i = 1\n",
    "soma = 0\n",
    "media = 0\n",
    "\n",
    "while i <= 5:\n",
    "    print(\"Digite o número\", i, \": \")\n",
    "    temp = float(input())\n",
    "    numeros.append(temp)\n",
    "    soma = soma + temp\n",
    "    i += 1\n",
    "    \n",
    "media = soma / 5\n",
    "print(\"Lista: \", numeros)\n",
    "print(\"Soma dos elementos: \", soma)\n",
    "print(\"Média dos elementos: \", media)"
   ]
  },
  {
   "cell_type": "markdown",
   "id": "18b73fe2",
   "metadata": {},
   "source": [
    "9. Faça um programa que imprima na tela apenas os números ímpares entre 1 e 50."
   ]
  },
  {
   "cell_type": "code",
   "execution_count": 64,
   "id": "31354d5d",
   "metadata": {},
   "outputs": [
    {
     "name": "stdout",
     "output_type": "stream",
     "text": [
      "1 3 5 7 9 11 13 15 17 19 21 23 25 27 29 31 33 35 37 39 41 43 45 47 49 "
     ]
    }
   ],
   "source": [
    "i = 1\n",
    "\n",
    "while 1 <= i <= 50:\n",
    "    if i % 2 != 0:\n",
    "        print(i, end = ' ')\n",
    "    i += 1"
   ]
  },
  {
   "cell_type": "markdown",
   "id": "78ca485f",
   "metadata": {},
   "source": [
    "10. Faça um programa que receba dois números inteiros e gere os números inteiros que estão no intervalo compreendido por eles."
   ]
  },
  {
   "cell_type": "code",
   "execution_count": 67,
   "id": "1f09555a",
   "metadata": {},
   "outputs": [
    {
     "name": "stdout",
     "output_type": "stream",
     "text": [
      "Valor A: 5\n",
      "Valor B: 100\n",
      "5 6 7 8 9 10 11 12 13 14 15 16 17 18 19 20 21 22 23 24 25 26 27 28 29 30 31 32 33 34 35 36 37 38 39 40 41 42 43 44 45 46 47 48 49 50 51 52 53 54 55 56 57 58 59 60 61 62 63 64 65 66 67 68 69 70 71 72 73 74 75 76 77 78 79 80 81 82 83 84 85 86 87 88 89 90 91 92 93 94 95 96 97 98 99 100 "
     ]
    }
   ],
   "source": [
    "a = int(input(\"Valor A: \"))\n",
    "b = int(input(\"Valor B: \"))\n",
    "i = a\n",
    "\n",
    "while a <= i <= b:\n",
    "    print(i, end = ' ')\n",
    "    i += 1"
   ]
  },
  {
   "cell_type": "markdown",
   "id": "04338052",
   "metadata": {},
   "source": [
    "11. Altere o programa anterior para mostrar no final a soma dos números."
   ]
  },
  {
   "cell_type": "code",
   "execution_count": 72,
   "id": "8d24422d",
   "metadata": {},
   "outputs": [
    {
     "name": "stdout",
     "output_type": "stream",
     "text": [
      "Valor A: 0\n",
      "Valor B: 9\n",
      "0 1 2 3 4 5 6 7 8 9 \n",
      "Soma dos números: 45\n"
     ]
    }
   ],
   "source": [
    "a = int(input(\"Valor A: \"))\n",
    "b = int(input(\"Valor B: \"))\n",
    "i = a\n",
    "soma = 0\n",
    "\n",
    "while a <= i <= b:\n",
    "    print(i, end = ' ')\n",
    "    soma = soma + i\n",
    "    i += 1\n",
    "    \n",
    "print(\"\\nSoma dos números:\", soma)"
   ]
  },
  {
   "cell_type": "markdown",
   "id": "1af4e77a",
   "metadata": {},
   "source": [
    "12. Desenvolva um gerador de tabuada, capaz de gerar a tabuada de qualquer número inteiro entre 1 a 10. O usuário deve informar de qual numero ele deseja ver a tabuada. A saída deve ser conforme o exemplo abaixo:\n",
    "\n",
    "Tabuada de 5:\n",
    "5 X 1 = 5\n",
    "5 X 2 = 10\n",
    "...\n",
    "5 X 10 = 50"
   ]
  },
  {
   "cell_type": "code",
   "execution_count": 80,
   "id": "b877dc2f",
   "metadata": {},
   "outputs": [
    {
     "name": "stdout",
     "output_type": "stream",
     "text": [
      "Calcular a tabuada do número: 9\n",
      "9 X 1 = 9\n",
      "9 X 2 = 18\n",
      "9 X 3 = 27\n",
      "9 X 4 = 36\n",
      "9 X 5 = 45\n",
      "9 X 6 = 54\n",
      "9 X 7 = 63\n",
      "9 X 8 = 72\n",
      "9 X 9 = 81\n",
      "9 X 10 = 90\n"
     ]
    }
   ],
   "source": [
    "num = int(input(\"Calcular a tabuada do número: \"))\n",
    "i = 1\n",
    "\n",
    "while 1 <= i <= 10:\n",
    "    print(num, \"X\", i, \"=\", num * i)\n",
    "    i += 1\n"
   ]
  },
  {
   "cell_type": "markdown",
   "id": "051878fa",
   "metadata": {},
   "source": [
    "13. Faça um programa que peça dois números, base e expoente, calcule e mostre o primeiro número elevado ao segundo número. Não utilize a função de potência da linguagem."
   ]
  },
  {
   "cell_type": "code",
   "execution_count": 89,
   "id": "e79f3c0f",
   "metadata": {},
   "outputs": [
    {
     "name": "stdout",
     "output_type": "stream",
     "text": [
      "Base: 5\n",
      "Expoente: 3\n",
      "Resultado:  125\n"
     ]
    }
   ],
   "source": [
    "base = int(input(\"Base: \"))\n",
    "expoente = int(input(\"Expoente: \"))\n",
    "resultado = 1\n",
    "i = 1\n",
    "\n",
    "while 1 <= i <= expoente:\n",
    "    resultado = resultado * base\n",
    "    i += 1\n",
    "    \n",
    "print(\"Resultado: \", resultado)"
   ]
  },
  {
   "cell_type": "markdown",
   "id": "f29d9519",
   "metadata": {},
   "source": [
    "14. Faça um programa que peça 10 números inteiros, calcule e mostre a quantidade de números pares e a quantidade de números impares."
   ]
  },
  {
   "cell_type": "code",
   "execution_count": 93,
   "id": "325d373b",
   "metadata": {},
   "outputs": [
    {
     "name": "stdout",
     "output_type": "stream",
     "text": [
      "Digite o número 1 : \n",
      "3\n",
      "Digite o número 2 : \n",
      "5\n",
      "Digite o número 3 : \n",
      "7\n",
      "Digite o número 4 : \n",
      "9\n",
      "Digite o número 5 : \n",
      "11\n",
      "Digite o número 6 : \n",
      "13\n",
      "Digite o número 7 : \n",
      "2\n",
      "Digite o número 8 : \n",
      "6\n",
      "Digite o número 9 : \n",
      "8\n",
      "Digite o número 10 : \n",
      "10\n",
      "\n",
      "Pares: 4 \n",
      "Ímpares: 6\n"
     ]
    }
   ],
   "source": [
    "numeros = []\n",
    "i = 1\n",
    "qtd_pares = 0\n",
    "qtd_impares = 0\n",
    "\n",
    "while i <= 10:\n",
    "    print(\"Digite o número\", i, \": \")\n",
    "    temp = float(input())\n",
    "    numeros.append(temp)\n",
    "    if temp % 2 == 0:\n",
    "        qtd_pares += 1\n",
    "    else:\n",
    "        qtd_impares += 1\n",
    "    i += 1\n",
    "    \n",
    "print(\"\\nPares:\", qtd_pares, \"\\nÍmpares:\", qtd_impares)"
   ]
  },
  {
   "cell_type": "markdown",
   "id": "3138d54c",
   "metadata": {},
   "source": [
    "15. A série de Fibonacci é formada pela sequência 1,1,2,3,5,8,13,21,34,55,... Faça um programa capaz de gerar a série até o n−ésimo termo."
   ]
  },
  {
   "cell_type": "code",
   "execution_count": 111,
   "id": "baf75d0d",
   "metadata": {},
   "outputs": [
    {
     "name": "stdout",
     "output_type": "stream",
     "text": [
      "N-ésimo termo: 15\n",
      "[0, 1, 1, 2, 3, 5, 8, 13, 21, 34, 55, 89, 144, 233, 377]\n"
     ]
    }
   ],
   "source": [
    "# Procurar refinar a lógica do código para não precisar fazer um pop na lista.\n",
    "n = int(input(\"N-ésimo termo: \"))\n",
    "fibonacci = [0,1,1]\n",
    "i = 2\n",
    "\n",
    "while 2 <= i <= n-1:\n",
    "    fibonacci[i] = fibonacci[i-1] + fibonacci[i-2]\n",
    "    fibonacci.append(0)\n",
    "    i += 1\n",
    "\n",
    "fibonacci.pop()\n",
    "print(fibonacci)"
   ]
  },
  {
   "cell_type": "markdown",
   "id": "e7fb9dc2",
   "metadata": {},
   "source": [
    "16. A série de Fibonacci é formada pela seqüência 0,1,1,2,3,5,8,13,21,34,55,... Faça um programa que gere a série até que o valor seja maior que 500."
   ]
  },
  {
   "cell_type": "code",
   "execution_count": 117,
   "id": "a54c6d76",
   "metadata": {},
   "outputs": [
    {
     "name": "stdout",
     "output_type": "stream",
     "text": [
      "[0, 1, 1, 2, 3, 5, 8, 13, 21, 34, 55, 89, 144, 233, 377, 610]\n"
     ]
    }
   ],
   "source": [
    "# Procurar refinar a lógica do código para não precisar fazer um pop na lista.\n",
    "fibonacci = [0,1,1]\n",
    "valor = 1\n",
    "i = 2\n",
    "\n",
    "while valor <= 500:\n",
    "    fibonacci[i] = fibonacci[i-1] + fibonacci[i-2]\n",
    "    fibonacci.append(0)\n",
    "    valor = fibonacci[i]\n",
    "    i += 1\n",
    "\n",
    "fibonacci.pop()\n",
    "print(fibonacci)"
   ]
  },
  {
   "cell_type": "markdown",
   "id": "f97a7f97",
   "metadata": {},
   "source": [
    "17. Faça um programa que calcule o fatorial de um número inteiro fornecido pelo usuário. Ex.: 5!=5.4.3.2.1=120"
   ]
  },
  {
   "cell_type": "code",
   "execution_count": 2,
   "id": "0bd79678",
   "metadata": {},
   "outputs": [
    {
     "name": "stdout",
     "output_type": "stream",
     "text": [
      "Informe um número: 6\n",
      "Resultado de 6! =  720\n"
     ]
    }
   ],
   "source": [
    "n = int(input(\"Informe um número: \"))\n",
    "count = n\n",
    "resultado = 1\n",
    "\n",
    "while count > 0:\n",
    "    resultado = resultado * count\n",
    "    count -= 1\n",
    "    \n",
    "print(\"Resultado de {}! = \".format(n), resultado)"
   ]
  },
  {
   "cell_type": "markdown",
   "id": "5d8eb7ca",
   "metadata": {},
   "source": [
    "18. Faça um programa que, dado um conjunto de N números, determine o menor valor, o maior valor e a soma dos valores."
   ]
  },
  {
   "cell_type": "code",
   "execution_count": 20,
   "id": "a4643a81",
   "metadata": {},
   "outputs": [
    {
     "name": "stdout",
     "output_type": "stream",
     "text": [
      "Quantos números?: 5\n",
      "\n",
      "Números gerados: [23, 15, 19, 4, 28]\n",
      "Maior valor: 28 \n",
      "Menor valor: 4 \n",
      "Soma dos valores: 89\n"
     ]
    }
   ],
   "source": [
    "# Biblioteca para gerar valores randômicos\n",
    "import random\n",
    "\n",
    "n = int(input(\"Quantos números?: \"))\n",
    "numeros = []\n",
    "menor = 0\n",
    "maior = 0\n",
    "soma = 0\n",
    "temp = 0\n",
    "\n",
    "# Nesta etapa, o primeiro elemento inserido no array vira \n",
    "# o menor e  maior valor, e também é somado.\n",
    "menor = random.randint(1,30)\n",
    "maior = menor\n",
    "soma = maior\n",
    "numeros.append(maior)\n",
    "i = n - 1 # Pois já inserimos um elemento\n",
    "\n",
    "while i > 0:\n",
    "    temp = random.randint(1, 30)\n",
    "    numeros.append(temp)\n",
    "    if temp < menor:\n",
    "        menor = temp\n",
    "    if temp > maior:\n",
    "        maior = temp\n",
    "    soma += temp\n",
    "    i -= 1\n",
    "    \n",
    "print(\"\\nNúmeros gerados:\", numeros)\n",
    "print(\"Maior valor:\", maior, \"\\nMenor valor:\", menor, \"\\nSoma dos valores:\", soma)"
   ]
  },
  {
   "cell_type": "markdown",
   "id": "b30267fb",
   "metadata": {},
   "source": [
    "19. Altere o programa anterior para que ele aceite apenas números entre 0 e 1000."
   ]
  },
  {
   "cell_type": "code",
   "execution_count": 26,
   "id": "de411ebd",
   "metadata": {},
   "outputs": [
    {
     "name": "stdout",
     "output_type": "stream",
     "text": [
      "Quantos números? (de 0 a 1000): 1000\n",
      "\n",
      "Números gerados: [14, 16, 2, 1, 5, 23, 15, 25, 4, 15, 28, 24, 14, 27, 9, 14, 19, 19, 30, 19, 18, 8, 14, 5, 19, 7, 13, 12, 12, 2, 26, 25, 15, 3, 5, 7, 9, 6, 18, 18, 27, 23, 2, 24, 5, 19, 5, 16, 27, 2, 29, 23, 6, 5, 16, 1, 1, 1, 9, 3, 16, 9, 13, 20, 27, 27, 26, 1, 1, 23, 15, 15, 5, 2, 28, 22, 10, 10, 23, 16, 9, 22, 28, 6, 28, 9, 22, 22, 10, 10, 19, 22, 27, 18, 9, 17, 25, 1, 28, 16, 23, 10, 9, 17, 23, 14, 17, 8, 17, 12, 23, 4, 11, 3, 6, 10, 3, 24, 25, 6, 29, 1, 10, 24, 9, 19, 5, 25, 7, 15, 14, 8, 3, 18, 16, 16, 3, 12, 27, 30, 17, 27, 1, 8, 4, 18, 7, 23, 11, 4, 10, 5, 10, 10, 11, 23, 29, 28, 13, 11, 17, 22, 21, 4, 24, 25, 4, 16, 30, 27, 24, 23, 22, 15, 29, 7, 14, 8, 9, 12, 4, 25, 15, 20, 29, 27, 29, 3, 8, 26, 28, 18, 22, 10, 30, 26, 5, 22, 12, 7, 19, 11, 1, 5, 26, 26, 14, 12, 1, 21, 21, 23, 1, 14, 28, 10, 10, 9, 17, 26, 18, 6, 28, 4, 12, 15, 24, 1, 9, 12, 26, 10, 7, 17, 18, 19, 20, 25, 1, 26, 14, 5, 1, 30, 21, 12, 9, 11, 25, 17, 14, 6, 29, 16, 12, 14, 28, 19, 5, 12, 1, 27, 17, 3, 8, 18, 16, 3, 23, 10, 17, 6, 28, 11, 23, 25, 20, 22, 1, 18, 14, 19, 23, 12, 25, 11, 3, 23, 27, 15, 20, 22, 8, 15, 29, 13, 1, 25, 9, 18, 30, 4, 22, 28, 14, 1, 8, 27, 22, 25, 28, 15, 10, 20, 10, 7, 13, 29, 15, 15, 21, 7, 3, 20, 4, 22, 18, 1, 4, 21, 18, 28, 20, 27, 20, 24, 6, 29, 12, 29, 6, 10, 28, 11, 29, 22, 15, 24, 14, 17, 26, 12, 16, 7, 3, 8, 8, 8, 11, 21, 13, 25, 26, 23, 22, 11, 21, 14, 9, 24, 11, 16, 17, 15, 12, 27, 1, 5, 10, 19, 14, 2, 20, 26, 26, 15, 18, 9, 12, 24, 29, 18, 1, 11, 2, 10, 4, 6, 18, 24, 1, 20, 11, 19, 22, 19, 18, 17, 25, 4, 11, 28, 10, 7, 5, 16, 30, 24, 19, 10, 8, 16, 1, 27, 10, 15, 23, 28, 27, 22, 2, 17, 16, 19, 15, 23, 19, 12, 6, 24, 2, 11, 9, 17, 5, 17, 14, 5, 5, 1, 18, 26, 3, 24, 27, 14, 28, 21, 15, 21, 30, 10, 17, 28, 10, 9, 30, 26, 19, 1, 19, 1, 24, 7, 19, 10, 21, 6, 12, 21, 20, 18, 19, 11, 14, 20, 27, 2, 29, 29, 10, 28, 19, 21, 26, 10, 9, 18, 29, 7, 10, 10, 16, 18, 25, 26, 3, 13, 30, 28, 22, 18, 29, 14, 8, 16, 28, 14, 25, 23, 12, 12, 18, 7, 3, 25, 18, 3, 23, 7, 14, 16, 9, 10, 7, 15, 18, 29, 16, 7, 21, 13, 14, 9, 12, 4, 6, 7, 27, 3, 16, 10, 29, 13, 16, 22, 12, 14, 4, 30, 4, 11, 23, 15, 9, 6, 26, 24, 26, 8, 13, 26, 7, 8, 24, 28, 24, 28, 27, 27, 15, 1, 1, 13, 2, 24, 2, 4, 8, 28, 1, 28, 9, 20, 17, 6, 1, 19, 8, 24, 6, 6, 12, 3, 29, 6, 4, 17, 27, 11, 6, 25, 25, 22, 8, 21, 21, 17, 12, 27, 22, 7, 13, 16, 17, 12, 10, 13, 14, 12, 5, 10, 14, 11, 12, 17, 15, 6, 9, 1, 25, 5, 13, 27, 1, 13, 18, 12, 11, 14, 8, 21, 27, 10, 18, 30, 10, 22, 12, 7, 26, 23, 2, 12, 11, 11, 26, 24, 3, 17, 24, 23, 23, 14, 7, 28, 24, 5, 6, 10, 23, 1, 2, 25, 1, 20, 4, 13, 3, 26, 1, 26, 19, 12, 30, 9, 4, 26, 26, 6, 9, 19, 27, 29, 24, 23, 9, 22, 20, 8, 15, 22, 12, 13, 16, 24, 22, 26, 6, 3, 28, 27, 23, 24, 18, 16, 30, 19, 20, 23, 2, 23, 10, 8, 26, 19, 2, 5, 13, 26, 19, 27, 23, 14, 13, 30, 2, 20, 22, 21, 14, 12, 30, 5, 20, 29, 8, 19, 10, 21, 2, 25, 15, 28, 10, 16, 17, 19, 20, 6, 10, 28, 7, 1, 28, 18, 26, 6, 12, 16, 18, 13, 30, 4, 29, 11, 3, 14, 28, 19, 20, 24, 7, 17, 16, 24, 17, 13, 17, 2, 9, 19, 11, 7, 24, 30, 14, 8, 11, 21, 13, 6, 13, 2, 20, 22, 22, 9, 27, 22, 1, 17, 13, 15, 4, 23, 7, 15, 8, 6, 10, 23, 7, 10, 3, 29, 19, 14, 25, 30, 14, 21, 2, 25, 13, 28, 24, 6, 14, 9, 7, 14, 25, 19, 26, 27, 20, 15, 2, 20, 7, 18, 3, 7, 12, 14, 10, 27, 13, 18, 29, 30, 19, 8, 7, 6, 12, 12, 11, 29, 10, 1, 22, 27, 20, 25, 15, 5, 24, 20, 25, 1, 14, 7, 26, 12, 3, 10, 18, 29, 15, 30, 22, 12, 30, 30, 29, 21, 16, 20, 29, 13, 27, 11, 30, 18, 2, 1, 25, 12, 4, 4, 17, 29, 27, 8, 21, 6, 2, 10, 5, 21, 1, 9, 23, 18, 9, 11, 25, 27, 19, 28, 25, 1, 7, 10, 24, 27, 15, 25, 20, 18, 26, 20, 22, 14, 20, 10, 5, 13, 18, 19, 19, 25, 1, 16, 20, 11, 6, 10, 15, 15, 11, 16, 21, 12, 8, 11, 8, 15, 13, 27, 18, 18, 28, 19, 12, 26, 29, 11, 7, 4, 28, 17, 25, 24, 19, 24, 8, 23]\n",
      "Maior valor: 30 \n",
      "Menor valor: 1 \n",
      "Soma dos valores: 15602\n"
     ]
    }
   ],
   "source": [
    "# Biblioteca para gerar valores randômicos\n",
    "import random\n",
    "\n",
    "n = int(input(\"Quantos números? (de 0 a 1000): \"))\n",
    "\n",
    "while n < 0 or n > 1000:\n",
    "    n = int(input(\"Quantidade inválida! Digite novamente: \"))\n",
    "    \n",
    "numeros = []\n",
    "menor = 0\n",
    "maior = 0\n",
    "soma = 0\n",
    "temp = 0\n",
    "\n",
    "# Nesta etapa, o primeiro elemento inserido no array vira \n",
    "# o menor e  maior valor, e também é somado.\n",
    "menor = random.randint(1,30)\n",
    "maior = menor\n",
    "soma = maior\n",
    "numeros.append(maior)\n",
    "i = n - 1 # Pois já inserimos um elemento\n",
    "\n",
    "while i > 0:\n",
    "    temp = random.randint(1, 30)\n",
    "    numeros.append(temp)\n",
    "    if temp < menor:\n",
    "        menor = temp\n",
    "    if temp > maior:\n",
    "        maior = temp\n",
    "    soma += temp\n",
    "    i -= 1\n",
    "    \n",
    "print(\"\\nNúmeros gerados:\", numeros)\n",
    "print(\"Maior valor:\", maior, \"\\nMenor valor:\", menor, \"\\nSoma dos valores:\", soma)"
   ]
  },
  {
   "cell_type": "markdown",
   "id": "122f7537",
   "metadata": {},
   "source": [
    "20. Altere o programa de cálculo do fatorial, permitindo ao usuário calcular o fatorial várias vezes e limitando o fatorial a números inteiros positivos e menores que 16."
   ]
  },
  {
   "cell_type": "code",
   "execution_count": 33,
   "id": "6356d71d",
   "metadata": {},
   "outputs": [
    {
     "name": "stdout",
     "output_type": "stream",
     "text": [
      "Informe um número (max = 16): 16\n",
      "O número ultrapassa o limite. Tente novamente: 16\n"
     ]
    },
    {
     "ename": "KeyboardInterrupt",
     "evalue": "Interrupted by user",
     "output_type": "error",
     "traceback": [
      "\u001b[1;31m---------------------------------------------------------------------------\u001b[0m",
      "\u001b[1;31mKeyboardInterrupt\u001b[0m                         Traceback (most recent call last)",
      "\u001b[1;32m<ipython-input-33-6fba82a48d08>\u001b[0m in \u001b[0;36m<module>\u001b[1;34m\u001b[0m\n\u001b[0;32m      2\u001b[0m     \u001b[0mn\u001b[0m \u001b[1;33m=\u001b[0m \u001b[0mint\u001b[0m\u001b[1;33m(\u001b[0m\u001b[0minput\u001b[0m\u001b[1;33m(\u001b[0m\u001b[1;34m\"Informe um número (max = 16): \"\u001b[0m\u001b[1;33m)\u001b[0m\u001b[1;33m)\u001b[0m\u001b[1;33m\u001b[0m\u001b[1;33m\u001b[0m\u001b[0m\n\u001b[0;32m      3\u001b[0m     \u001b[1;32mwhile\u001b[0m \u001b[0mn\u001b[0m \u001b[1;33m>=\u001b[0m \u001b[1;36m16\u001b[0m\u001b[1;33m:\u001b[0m\u001b[1;33m\u001b[0m\u001b[1;33m\u001b[0m\u001b[0m\n\u001b[1;32m----> 4\u001b[1;33m         \u001b[0mn\u001b[0m \u001b[1;33m=\u001b[0m \u001b[0mint\u001b[0m\u001b[1;33m(\u001b[0m\u001b[0minput\u001b[0m\u001b[1;33m(\u001b[0m\u001b[1;34m\"O número ultrapassa o limite. Tente novamente: \"\u001b[0m\u001b[1;33m)\u001b[0m\u001b[1;33m)\u001b[0m\u001b[1;33m\u001b[0m\u001b[1;33m\u001b[0m\u001b[0m\n\u001b[0m\u001b[0;32m      5\u001b[0m     \u001b[0mcount\u001b[0m \u001b[1;33m=\u001b[0m \u001b[0mn\u001b[0m\u001b[1;33m\u001b[0m\u001b[1;33m\u001b[0m\u001b[0m\n\u001b[0;32m      6\u001b[0m     \u001b[0mresultado\u001b[0m \u001b[1;33m=\u001b[0m \u001b[1;36m1\u001b[0m\u001b[1;33m\u001b[0m\u001b[1;33m\u001b[0m\u001b[0m\n",
      "\u001b[1;32m~\\anaconda3\\lib\\site-packages\\ipykernel\\kernelbase.py\u001b[0m in \u001b[0;36mraw_input\u001b[1;34m(self, prompt)\u001b[0m\n\u001b[0;32m    858\u001b[0m                 \u001b[1;34m\"raw_input was called, but this frontend does not support input requests.\"\u001b[0m\u001b[1;33m\u001b[0m\u001b[1;33m\u001b[0m\u001b[0m\n\u001b[0;32m    859\u001b[0m             )\n\u001b[1;32m--> 860\u001b[1;33m         return self._input_request(str(prompt),\n\u001b[0m\u001b[0;32m    861\u001b[0m             \u001b[0mself\u001b[0m\u001b[1;33m.\u001b[0m\u001b[0m_parent_ident\u001b[0m\u001b[1;33m,\u001b[0m\u001b[1;33m\u001b[0m\u001b[1;33m\u001b[0m\u001b[0m\n\u001b[0;32m    862\u001b[0m             \u001b[0mself\u001b[0m\u001b[1;33m.\u001b[0m\u001b[0m_parent_header\u001b[0m\u001b[1;33m,\u001b[0m\u001b[1;33m\u001b[0m\u001b[1;33m\u001b[0m\u001b[0m\n",
      "\u001b[1;32m~\\anaconda3\\lib\\site-packages\\ipykernel\\kernelbase.py\u001b[0m in \u001b[0;36m_input_request\u001b[1;34m(self, prompt, ident, parent, password)\u001b[0m\n\u001b[0;32m    902\u001b[0m             \u001b[1;32mexcept\u001b[0m \u001b[0mKeyboardInterrupt\u001b[0m\u001b[1;33m:\u001b[0m\u001b[1;33m\u001b[0m\u001b[1;33m\u001b[0m\u001b[0m\n\u001b[0;32m    903\u001b[0m                 \u001b[1;31m# re-raise KeyboardInterrupt, to truncate traceback\u001b[0m\u001b[1;33m\u001b[0m\u001b[1;33m\u001b[0m\u001b[1;33m\u001b[0m\u001b[0m\n\u001b[1;32m--> 904\u001b[1;33m                 \u001b[1;32mraise\u001b[0m \u001b[0mKeyboardInterrupt\u001b[0m\u001b[1;33m(\u001b[0m\u001b[1;34m\"Interrupted by user\"\u001b[0m\u001b[1;33m)\u001b[0m \u001b[1;32mfrom\u001b[0m \u001b[1;32mNone\u001b[0m\u001b[1;33m\u001b[0m\u001b[1;33m\u001b[0m\u001b[0m\n\u001b[0m\u001b[0;32m    905\u001b[0m             \u001b[1;32mexcept\u001b[0m \u001b[0mException\u001b[0m \u001b[1;32mas\u001b[0m \u001b[0me\u001b[0m\u001b[1;33m:\u001b[0m\u001b[1;33m\u001b[0m\u001b[1;33m\u001b[0m\u001b[0m\n\u001b[0;32m    906\u001b[0m                 \u001b[0mself\u001b[0m\u001b[1;33m.\u001b[0m\u001b[0mlog\u001b[0m\u001b[1;33m.\u001b[0m\u001b[0mwarning\u001b[0m\u001b[1;33m(\u001b[0m\u001b[1;34m\"Invalid Message:\"\u001b[0m\u001b[1;33m,\u001b[0m \u001b[0mexc_info\u001b[0m\u001b[1;33m=\u001b[0m\u001b[1;32mTrue\u001b[0m\u001b[1;33m)\u001b[0m\u001b[1;33m\u001b[0m\u001b[1;33m\u001b[0m\u001b[0m\n",
      "\u001b[1;31mKeyboardInterrupt\u001b[0m: Interrupted by user"
     ]
    }
   ],
   "source": [
    "while 1:\n",
    "    n = int(input(\"Informe um número (max = 16): \"))\n",
    "    while n >= 16:\n",
    "        n = int(input(\"O número ultrapassa o limite. Tente novamente: \"))\n",
    "    count = n\n",
    "    resultado = 1\n",
    "\n",
    "    while count > 0:\n",
    "        resultado = resultado * count\n",
    "        count -= 1\n",
    "\n",
    "    print(\"Resultado de {}! = \".format(n), resultado)"
   ]
  },
  {
   "cell_type": "markdown",
   "id": "c7e48ee7",
   "metadata": {},
   "source": [
    "21. Faça um programa que peça um número inteiro e determine se ele é ou não um número primo. Um número primo é aquele que é divisível somente por ele mesmo e por 1."
   ]
  },
  {
   "cell_type": "code",
   "execution_count": 49,
   "id": "67c33852",
   "metadata": {},
   "outputs": [
    {
     "name": "stdout",
     "output_type": "stream",
     "text": [
      "Informe um número: 5\n",
      "O número 5 é primo!\n"
     ]
    }
   ],
   "source": [
    "n = int(input(\"Informe um número: \"))\n",
    "flag = 0\n",
    "\n",
    "# Aqui já excluímos a opção do i começar a partir do número\n",
    "i = n - 1\n",
    "# Quando encontrar um valor de i que divide n, o while é interrompido.\n",
    "while flag == 0 and i > 1:\n",
    "    if n % i == 0:\n",
    "        flag = 1\n",
    "    i-= 1\n",
    "    \n",
    "if flag == 0:\n",
    "    print(\"O número {} é primo!\".format(n))\n",
    "else:\n",
    "    print(\"O número {} não é primo!\".format(n))\n"
   ]
  },
  {
   "cell_type": "markdown",
   "id": "20edec59",
   "metadata": {},
   "source": [
    "22. Altere o programa de cálculo dos números primos, informando, caso o número não seja primo, por quais número ele é divisível."
   ]
  },
  {
   "cell_type": "code",
   "execution_count": 58,
   "id": "6212f237",
   "metadata": {},
   "outputs": [
    {
     "name": "stdout",
     "output_type": "stream",
     "text": [
      "Informe um número: 100\n",
      "O número 100 não é primo! Os números que o dividem são:  [2, 4, 5, 10, 20, 25, 50]\n"
     ]
    }
   ],
   "source": [
    "# Neste programa a flag não será mais usada pois se encontrar um divisor,\n",
    "# o while continuará procurando outros.\n",
    "n = int(input(\"Informe um número: \"))\n",
    "divisores = []\n",
    "count = 0\n",
    "\n",
    "# Aqui já excluímos a opção do i começar a partir do número\n",
    "i = n - 1\n",
    "# Quando encontrar um valor de i que divide n, o while é interrompido.\n",
    "while i > 1:\n",
    "    if n % i == 0:\n",
    "        count += 1\n",
    "        divisores.append(i)\n",
    "    i-= 1\n",
    "    \n",
    "if count == 0:\n",
    "    print(\"O número {} é primo! Nenhum número o divide.\".format(n))\n",
    "else:\n",
    "    # Invertemos o array para ficar mais intuitivo de mostrar.\n",
    "    print(\"O número {} não é primo! Os números que o dividem são: \".format(n), divisores[::-1])"
   ]
  },
  {
   "cell_type": "markdown",
   "id": "4b825ac1",
   "metadata": {},
   "source": [
    "23. Faça um programa que mostre todos os primos entre 1 e N sendo N um número inteiro fornecido pelo usuário. O programa deverá mostrar também o número de divisões que ele executou para encontrar os números primos. Serão avaliados o funcionamento, o estilo e o número de testes (divisões) executados."
   ]
  },
  {
   "cell_type": "code",
   "execution_count": 99,
   "id": "649f5c96",
   "metadata": {},
   "outputs": [
    {
     "name": "stdout",
     "output_type": "stream",
     "text": [
      "Informe um número: 1000\n",
      "\n",
      "Os números primos de 1 a 1000 são: [2, 3, 5, 7, 11, 13, 17, 19, 23, 29, 31, 37, 41, 43, 47, 53, 59, 61, 67, 71, 73, 79, 83, 89, 97, 101, 103, 107, 109, 113, 127, 131, 137, 139, 149, 151, 157, 163, 167, 173, 179, 181, 191, 193, 197, 199, 211, 223, 227, 229, 233, 239, 241, 251, 257, 263, 269, 271, 277, 281, 283, 293, 307, 311, 313, 317, 331, 337, 347, 349, 353, 359, 367, 373, 379, 383, 389, 397, 401, 409, 419, 421, 431, 433, 439, 443, 449, 457, 461, 463, 467, 479, 487, 491, 499, 503, 509, 521, 523, 541, 547, 557, 563, 569, 571, 577, 587, 593, 599, 601, 607, 613, 617, 619, 631, 641, 643, 647, 653, 659, 661, 673, 677, 683, 691, 701, 709, 719, 727, 733, 739, 743, 751, 757, 761, 769, 773, 787, 797, 809, 811, 821, 823, 827, 829, 839, 853, 857, 859, 863, 877, 881, 883, 887, 907, 911, 919, 929, 937, 941, 947, 953, 967, 971, 977, 983, 991, 997]\n",
      "O programa testou 498501 divisões para calculá-los.\n"
     ]
    }
   ],
   "source": [
    "n = int(input(\"Informe um número: \"))\n",
    "count = 0\n",
    "divisoes = 0\n",
    "primos = []\n",
    "\n",
    "j = n\n",
    "# Quando encontrar um valor de i que divide n, o while é interrompido.\n",
    "while j > 1:\n",
    "    count = 0\n",
    "    i = j - 1\n",
    "    while i > 1:\n",
    "        if j % i == 0:\n",
    "            count += 1\n",
    "        divisoes += 1\n",
    "        i-= 1\n",
    "    if count == 0:\n",
    "        primos.append(j)\n",
    "    j -= 1\n",
    "\n",
    "print(\"\\nOs números primos de 1 a {} são:\".format(n), primos[::-1])\n",
    "print(\"O programa testou {} divisões para calculá-los.\".format(divisoes))"
   ]
  },
  {
   "cell_type": "markdown",
   "id": "35928578",
   "metadata": {},
   "source": [
    "24. Faça um programa que calcule o mostre a média aritmética de N notas."
   ]
  },
  {
   "cell_type": "code",
   "execution_count": 81,
   "id": "85ca7dd8",
   "metadata": {},
   "outputs": [
    {
     "name": "stdout",
     "output_type": "stream",
     "text": [
      "Quantas notas serão inseridas?: 10\n",
      "Nota 1: 8.8\n",
      "Nota 2: 9.1\n",
      "Nota 3: 7.8\n",
      "Nota 4: 5.6\n",
      "Nota 5: 7.1\n",
      "Nota 6: 9.4\n",
      "Nota 7: 2.4\n",
      "Nota 8: 9.5\n",
      "Nota 9: 10\n",
      "Nota 10: 7.5\n",
      "Média aritmética = 7.719999999999999\n"
     ]
    }
   ],
   "source": [
    "n = int(input(\"Quantas notas serão inseridas?: \"))\n",
    "i = 1\n",
    "soma = 0\n",
    "\n",
    "while i <= n:\n",
    "    nota = float(input(\"Nota {}: \".format(i)))\n",
    "    soma += nota\n",
    "    i += 1\n",
    "    \n",
    "media = soma / n\n",
    "print(\"\\nMédia aritmética = {}\".format(media))\n"
   ]
  },
  {
   "cell_type": "markdown",
   "id": "624ddb32",
   "metadata": {},
   "source": [
    "25. Faça um programa que peça para N pessoas a sua idade, ao final o programa devera verificar se a média de idade da turma varia entre 0 e 25, 26 e 60 e maior que 60; e então, dizer se a turma é jovem, adulta ou idosa, conforme a média calculada."
   ]
  },
  {
   "cell_type": "code",
   "execution_count": 83,
   "id": "80cee4de",
   "metadata": {},
   "outputs": [
    {
     "name": "stdout",
     "output_type": "stream",
     "text": [
      "Quantas pessoas?: 10\n",
      "Idade 1: 60\n",
      "Idade 2: 70\n",
      "Idade 3: 20\n",
      "Idade 4: 10\n",
      "Idade 5: 5\n",
      "Idade 6: 90\n",
      "Idade 7: 50\n",
      "Idade 8: 30\n",
      "Idade 9: 38\n",
      "Idade 10: 71\n",
      "\n",
      "Média aritmética das idades = 44.4\n",
      "\n",
      "A turma é adulta!\n"
     ]
    }
   ],
   "source": [
    "n = int(input(\"Quantas pessoas?: \"))\n",
    "i = 1\n",
    "soma = 0\n",
    "\n",
    "while i <= n:\n",
    "    idade = int(input(\"Idade {}: \".format(i)))\n",
    "    soma += idade\n",
    "    i += 1\n",
    "    \n",
    "media = soma / n\n",
    "print(\"\\nMédia aritmética das idades = {}\".format(media))\n",
    "\n",
    "if 0 <= media <= 25:\n",
    "    print(\"\\nA turma é jovem!\")\n",
    "elif 26 <= media <= 60:\n",
    "    print(\"\\nA turma é adulta!\")\n",
    "else:\n",
    "    print(\"\\nA turma é idosa!\")"
   ]
  },
  {
   "cell_type": "markdown",
   "id": "362f74c4",
   "metadata": {},
   "source": [
    "26. Numa eleição existem três candidatos. Faça um programa que peça o número total de eleitores. Peça para cada eleitor votar e ao final mostrar o número de votos de cada candidato."
   ]
  },
  {
   "cell_type": "code",
   "execution_count": 112,
   "id": "cae1d3a4",
   "metadata": {},
   "outputs": [
    {
     "name": "stdout",
     "output_type": "stream",
     "text": [
      "Total de eleitores: 5\n",
      "\n",
      "Eleitor 1, qual candidato recebe o seu voto?\n",
      "(1) Candidato A\n",
      "(2) Candidato B\n",
      "(3) Candidato C\n",
      "0\n",
      "Opção inválida! Tente novamente.\n",
      "\n",
      "Eleitor 1, qual candidato recebe o seu voto?\n",
      "(1) Candidato A\n",
      "(2) Candidato B\n",
      "(3) Candidato C\n",
      "1\n",
      "\n",
      "Eleitor 2, qual candidato recebe o seu voto?\n",
      "(1) Candidato A\n",
      "(2) Candidato B\n",
      "(3) Candidato C\n",
      "2\n",
      "\n",
      "Eleitor 3, qual candidato recebe o seu voto?\n",
      "(1) Candidato A\n",
      "(2) Candidato B\n",
      "(3) Candidato C\n",
      "2\n",
      "\n",
      "Eleitor 4, qual candidato recebe o seu voto?\n",
      "(1) Candidato A\n",
      "(2) Candidato B\n",
      "(3) Candidato C\n",
      "1\n",
      "\n",
      "Eleitor 5, qual candidato recebe o seu voto?\n",
      "(1) Candidato A\n",
      "(2) Candidato B\n",
      "(3) Candidato C\n",
      "1\n",
      "\n",
      "Total de votos:\n",
      "Candidato A: 3\n",
      "Candidato B: 2\n",
      "Candidato C: 0\n"
     ]
    }
   ],
   "source": [
    "n_eleitores = int(input(\"Total de eleitores: \"))\n",
    "votos_a = 0\n",
    "votos_b = 0\n",
    "votos_c = 0\n",
    "i = 1\n",
    "\n",
    "while i <= n_eleitores:\n",
    "    opcao = int(input(\"\\nEleitor {}, qual candidato recebe o seu voto?\\n(1) Candidato A\\n(2) Candidato B\\n(3) Candidato C\\n\".format(i)))\n",
    "\n",
    "    # Impede que o eleitor registre uma opção inválida.\n",
    "    while opcao < 1 or opcao > 3:\n",
    "        print(\"Opção inválida! Tente novamente.\")\n",
    "        opcao = int(input(\"\\nEleitor {}, qual candidato recebe o seu voto?\\n(1) Candidato A\\n(2) Candidato B\\n(3) Candidato C\\n\".format(i)))\n",
    "    \n",
    "    if opcao == 1:\n",
    "        votos_a += 1\n",
    "    elif opcao == 2:\n",
    "        votos_b += 1\n",
    "    else:\n",
    "        votos_c += 1\n",
    "    \n",
    "    i += 1\n",
    "    \n",
    "print(\"\\nTotal de votos:\\nCandidato A: {}\\nCandidato B: {}\\nCandidato C: {}\".format(votos_a, votos_b, votos_c))"
   ]
  },
  {
   "cell_type": "markdown",
   "id": "4cfc0b9c",
   "metadata": {},
   "source": [
    "27. Faça um programa que calcule o número médio de alunos por turma. Para isto, peça a quantidade de turmas e a quantidade de alunos para cada turma. As turmas não podem ter mais de 40 alunos."
   ]
  },
  {
   "cell_type": "code",
   "execution_count": 118,
   "id": "5a7a972f",
   "metadata": {},
   "outputs": [
    {
     "name": "stdout",
     "output_type": "stream",
     "text": [
      "Total de turmas: 3\n",
      "\n",
      "Quantos alunos na turma 1? (Máx: 40): 28\n",
      "\n",
      "Quantos alunos na turma 2? (Máx: 40): 35\n",
      "\n",
      "Quantos alunos na turma 3? (Máx: 40): 41\n",
      "Não são permitidos mais do que 40 alunos na turma! Tente novamente.\n",
      "\n",
      "Quantos alunos na turma 3? (Máx: 40): 40\n",
      "\n",
      "Turmas registradas: 3\n",
      "Alunos registrados: 103\n",
      "Média de alunos por turma: 34.333333333333336\n"
     ]
    }
   ],
   "source": [
    "n_turmas = int(input(\"Total de turmas: \"))\n",
    "i = 1\n",
    "soma_alunos = 0\n",
    "\n",
    "while i <= n_turmas:\n",
    "    n_alunos = int(input(\"\\nQuantos alunos na turma {}? (Máx: 40): \".format(i)))\n",
    "\n",
    "    # Impede o registro de mais de 40 alunos em uma turma.\n",
    "    while n_alunos > 40:\n",
    "        print(\"Não são permitidos mais do que 40 alunos na turma! Tente novamente.\")\n",
    "        n_alunos = int(input(\"\\nQuantos alunos na turma {}? (Máx: 40): \".format(i)))\n",
    "    \n",
    "    soma_alunos += n_alunos\n",
    "    \n",
    "    i += 1\n",
    "    \n",
    "media_alunos_turma = soma_alunos / n_turmas\n",
    "print(\"\\nTurmas registradas: {}\\nAlunos registrados: {}\\nMédia de alunos por turma: {}\".format(n_turmas, soma_alunos, media_alunos_turma))"
   ]
  },
  {
   "cell_type": "markdown",
   "id": "e14495b5",
   "metadata": {},
   "source": [
    "28. Faça um programa que calcule o valor total investido por um colecionador em sua coleção de CDs e o valor médio gasto em cada um deles. O usuário deverá informar a quantidade de CDs e o valor para em cada um."
   ]
  },
  {
   "cell_type": "code",
   "execution_count": 108,
   "id": "f6b1ca6c",
   "metadata": {},
   "outputs": [
    {
     "name": "stdout",
     "output_type": "stream",
     "text": [
      "Quantos CDs você possui?: 10\n",
      "Valor CD 1: 14.99\n",
      "Valor CD 2: 19.99\n",
      "Valor CD 3: 49.99\n",
      "Valor CD 4: 3.49\n",
      "Valor CD 5: 12.50\n",
      "Valor CD 6: 7.83\n",
      "Valor CD 7: 7.99\n",
      "Valor CD 8: 14.99\n",
      "Valor CD 9: 19\n",
      "Valor CD 10: 21.35\n",
      "\n",
      "Quantidade de CDs: 10\n",
      "Custo total: 172.11999999999998\n",
      "Valor médio por CD: 17.211999999999996\n"
     ]
    }
   ],
   "source": [
    "qtd_cds = int(input(\"Quantos CDs você possui?: \"))\n",
    "soma_precos = 0\n",
    "i = 1\n",
    "\n",
    "while i <= qtd_cds:\n",
    "    preco_cd = float(input(\"Valor CD {}: \".format(i)))\n",
    "    soma_precos += preco_cd\n",
    "    i += 1\n",
    "    \n",
    "valor_medio = soma_precos / qtd_cds\n",
    "print(\"\\nQuantidade de CDs: {}\\nCusto total: {}\\nValor médio por CD: {}\".format(qtd_cds, soma_precos, valor_medio))"
   ]
  },
  {
   "cell_type": "markdown",
   "id": "36bfd0ec",
   "metadata": {},
   "source": [
    "29. O Sr. Manoel Joaquim possui uma grande loja de artigos de R$ 1,99, com cerca de 10 caixas. Para agilizar o cálculo de quanto cada cliente deve pagar ele desenvolveu um tabela que contém o número de itens que o cliente comprou e ao lado o valor da conta. Desta forma a atendente do caixa precisa apenas contar quantos itens o cliente está levando e olhar na tabela de preços. Você foi contratado para desenvolver o programa que monta esta tabela de preços, que conterá os preços de 1 até 50 produtos, conforme o exemplo abaixo:\n",
    "\n",
    "Lojas Quase Dois - Tabela de preços\n",
    "1 - R$ 1.99\n",
    "2 - R$ 3.98\n",
    "...\n",
    "50 - R$ 99.50"
   ]
  },
  {
   "cell_type": "code",
   "execution_count": 136,
   "id": "a20c79b7",
   "metadata": {},
   "outputs": [
    {
     "name": "stdout",
     "output_type": "stream",
     "text": [
      "1 ---> 1.99\n",
      "2 ---> 3.98\n",
      "3 ---> 5.97\n",
      "4 ---> 7.96\n",
      "5 ---> 9.95\n",
      "6 ---> 11.94\n",
      "7 ---> 13.93\n",
      "8 ---> 15.92\n",
      "9 ---> 17.91\n",
      "10 ---> 19.9\n",
      "11 ---> 21.89\n",
      "12 ---> 23.88\n",
      "13 ---> 25.87\n",
      "14 ---> 27.86\n",
      "15 ---> 29.85\n",
      "16 ---> 31.84\n",
      "17 ---> 33.83\n",
      "18 ---> 35.82\n",
      "19 ---> 37.81\n",
      "20 ---> 39.8\n",
      "21 ---> 41.79\n",
      "22 ---> 43.78\n",
      "23 ---> 45.77\n",
      "24 ---> 47.76\n",
      "25 ---> 49.75\n",
      "26 ---> 51.74\n",
      "27 ---> 53.73\n",
      "28 ---> 55.72\n",
      "29 ---> 57.71\n",
      "30 ---> 59.7\n",
      "31 ---> 61.69\n",
      "32 ---> 63.68\n",
      "33 ---> 65.67\n",
      "34 ---> 67.66\n",
      "35 ---> 69.65\n",
      "36 ---> 71.64\n",
      "37 ---> 73.63\n",
      "38 ---> 75.62\n",
      "39 ---> 77.61\n",
      "40 ---> 79.6\n",
      "41 ---> 81.59\n",
      "42 ---> 83.58\n",
      "43 ---> 85.57\n",
      "44 ---> 87.56\n",
      "45 ---> 89.55\n",
      "46 ---> 91.54\n",
      "47 ---> 93.53\n",
      "48 ---> 95.52\n",
      "49 ---> 97.51\n",
      "50 ---> 99.5\n"
     ]
    }
   ],
   "source": [
    "# Uma solução muito mais interessante para o problema seria usar um dicionário,\n",
    "# mas este recurso ainda não foi aprendido no módulo.\n",
    "i = 1\n",
    "tabela_precos = []\n",
    "\n",
    "# Monta a tabela\n",
    "while i <= 50:\n",
    "    tabela_precos.append(i*1.99)\n",
    "    i += 1\n",
    "    \n",
    "i = 1\n",
    "# Imprime a tabela com as respectivas quantidades\n",
    "while i <= 50:\n",
    "    print(i, \"--->\", tabela_precos[i-1])\n",
    "    i += 1\n"
   ]
  },
  {
   "cell_type": "markdown",
   "id": "568146c1",
   "metadata": {},
   "source": [
    "30. O Sr. Manoel Joaquim acaba de adquirir uma panificadora e pretende implantar a metodologia da tabelinha, que já é um sucesso na sua loja de 1,99. Você foi contratado para desenvolver o programa que monta a tabela de preços de pães, de 1 até 50 pães, a partir do preço do pão informado pelo usuário, conforme o exemplo abaixo:\n",
    "\n",
    "Preço do pão: R$ 0.18\n",
    "Panificadora Pão de Ontem - Tabela de preços\n",
    "1 - R$ 0.18\n",
    "2 - R$ 0.36\n",
    "...\n",
    "50 - R$ 9.00"
   ]
  },
  {
   "cell_type": "code",
   "execution_count": 138,
   "id": "bde43833",
   "metadata": {},
   "outputs": [
    {
     "name": "stdout",
     "output_type": "stream",
     "text": [
      "Preço do pão de hoje: 0.18\n",
      "1 ---> 0.18\n",
      "2 ---> 0.36\n",
      "3 ---> 0.54\n",
      "4 ---> 0.72\n",
      "5 ---> 0.8999999999999999\n",
      "6 ---> 1.08\n",
      "7 ---> 1.26\n",
      "8 ---> 1.44\n",
      "9 ---> 1.6199999999999999\n",
      "10 ---> 1.7999999999999998\n",
      "11 ---> 1.98\n",
      "12 ---> 2.16\n",
      "13 ---> 2.34\n",
      "14 ---> 2.52\n",
      "15 ---> 2.6999999999999997\n",
      "16 ---> 2.88\n",
      "17 ---> 3.06\n",
      "18 ---> 3.2399999999999998\n",
      "19 ---> 3.42\n",
      "20 ---> 3.5999999999999996\n",
      "21 ---> 3.78\n",
      "22 ---> 3.96\n",
      "23 ---> 4.14\n",
      "24 ---> 4.32\n",
      "25 ---> 4.5\n",
      "26 ---> 4.68\n",
      "27 ---> 4.859999999999999\n",
      "28 ---> 5.04\n",
      "29 ---> 5.22\n",
      "30 ---> 5.3999999999999995\n",
      "31 ---> 5.58\n",
      "32 ---> 5.76\n",
      "33 ---> 5.9399999999999995\n",
      "34 ---> 6.12\n",
      "35 ---> 6.3\n",
      "36 ---> 6.4799999999999995\n",
      "37 ---> 6.66\n",
      "38 ---> 6.84\n",
      "39 ---> 7.02\n",
      "40 ---> 7.199999999999999\n",
      "41 ---> 7.38\n",
      "42 ---> 7.56\n",
      "43 ---> 7.739999999999999\n",
      "44 ---> 7.92\n",
      "45 ---> 8.1\n",
      "46 ---> 8.28\n",
      "47 ---> 8.459999999999999\n",
      "48 ---> 8.64\n",
      "49 ---> 8.82\n",
      "50 ---> 9.0\n"
     ]
    }
   ],
   "source": [
    "# Uma solução muito mais interessante para o problema seria usar um dicionário,\n",
    "# mas este recurso ainda não foi aprendido no módulo.\n",
    "preco_pao = float(input(\"Preço do pão de hoje: \"))\n",
    "i = 1\n",
    "tabela_precos = []\n",
    "\n",
    "# Monta a tabela\n",
    "while i <= 50:\n",
    "    tabela_precos.append(i*preco_pao)\n",
    "    i += 1\n",
    "    \n",
    "i = 1\n",
    "# Imprime a tabela com as respectivas quantidades\n",
    "while i <= 50:\n",
    "    print(i, \"--->\", tabela_precos[i-1])\n",
    "    i += 1"
   ]
  },
  {
   "cell_type": "markdown",
   "id": "25b52692",
   "metadata": {},
   "source": [
    "31. O Sr. Manoel Joaquim expandiu seus negócios para além dos negócios de 1,99 e agora possui uma loja de conveniências. Faça um programa que implemente uma caixa registradora rudimentar. O programa deverá receber um número desconhecido de valores referentes aos preços das mercadorias. Um valor zero deve ser informado pelo operador para indicar o final da compra. O programa deve então mostrar o total da compra e perguntar o valor em dinheiro que o cliente forneceu, para então calcular e mostrar o valor do troco. Após esta operação, o programa deverá voltar ao ponto inicial, para registrar a próxima compra. A saída deve ser conforme o exemplo abaixo:\n",
    "\n",
    "Lojas Tabajara \n",
    "Produto 1: R$ 2.20\n",
    "Produto 2: R$ 5.80\n",
    "Produto 3: R$ 0\n",
    "Total: R$ 9.00\n",
    "Dinheiro: R$ 20.00\n",
    "Troco: R$ 11.00\n",
    "..."
   ]
  },
  {
   "cell_type": "code",
   "execution_count": 154,
   "id": "c996d388",
   "metadata": {},
   "outputs": [
    {
     "name": "stdout",
     "output_type": "stream",
     "text": [
      "Compra #1\n",
      "Produto 1: R$2.2\n",
      "Produto 2: R$ 5.8\n",
      "Produto 3: R$ 0\n",
      "Total: R$ 8.0\n",
      "Dinheiro fornecido: 20\n",
      "Troco: R$ 12.0\n",
      "\n",
      "\n",
      "Compra #2\n",
      "Produto 1: R$5.99\n",
      "Produto 2: R$ 19.99\n",
      "Produto 3: R$ 0\n",
      "Total: R$ 25.979999999999997\n",
      "Dinheiro fornecido: 50\n",
      "Troco: R$ 24.020000000000003\n",
      "\n",
      "\n",
      "Compra #3\n"
     ]
    },
    {
     "ename": "KeyboardInterrupt",
     "evalue": "Interrupted by user",
     "output_type": "error",
     "traceback": [
      "\u001b[1;31m---------------------------------------------------------------------------\u001b[0m",
      "\u001b[1;31mKeyboardInterrupt\u001b[0m                         Traceback (most recent call last)",
      "\u001b[1;32m<ipython-input-154-732f4ef92410>\u001b[0m in \u001b[0;36m<module>\u001b[1;34m\u001b[0m\n\u001b[0;32m      6\u001b[0m \u001b[1;33m\u001b[0m\u001b[0m\n\u001b[0;32m      7\u001b[0m     \u001b[0mtotal_compra\u001b[0m \u001b[1;33m=\u001b[0m \u001b[1;36m0\u001b[0m\u001b[1;33m\u001b[0m\u001b[1;33m\u001b[0m\u001b[0m\n\u001b[1;32m----> 8\u001b[1;33m     \u001b[0mvalor_produto\u001b[0m \u001b[1;33m=\u001b[0m \u001b[0mfloat\u001b[0m\u001b[1;33m(\u001b[0m\u001b[0minput\u001b[0m\u001b[1;33m(\u001b[0m\u001b[1;34m\"Produto 1: R$\"\u001b[0m\u001b[1;33m)\u001b[0m\u001b[1;33m)\u001b[0m\u001b[1;33m\u001b[0m\u001b[1;33m\u001b[0m\u001b[0m\n\u001b[0m\u001b[0;32m      9\u001b[0m     \u001b[1;32mif\u001b[0m \u001b[0mvalor_produto\u001b[0m \u001b[1;33m!=\u001b[0m \u001b[1;36m0\u001b[0m\u001b[1;33m:\u001b[0m\u001b[1;33m\u001b[0m\u001b[1;33m\u001b[0m\u001b[0m\n\u001b[0;32m     10\u001b[0m         \u001b[0mi_produto\u001b[0m \u001b[1;33m=\u001b[0m \u001b[1;36m2\u001b[0m\u001b[1;33m\u001b[0m\u001b[1;33m\u001b[0m\u001b[0m\n",
      "\u001b[1;32m~\\anaconda3\\lib\\site-packages\\ipykernel\\kernelbase.py\u001b[0m in \u001b[0;36mraw_input\u001b[1;34m(self, prompt)\u001b[0m\n\u001b[0;32m    858\u001b[0m                 \u001b[1;34m\"raw_input was called, but this frontend does not support input requests.\"\u001b[0m\u001b[1;33m\u001b[0m\u001b[1;33m\u001b[0m\u001b[0m\n\u001b[0;32m    859\u001b[0m             )\n\u001b[1;32m--> 860\u001b[1;33m         return self._input_request(str(prompt),\n\u001b[0m\u001b[0;32m    861\u001b[0m             \u001b[0mself\u001b[0m\u001b[1;33m.\u001b[0m\u001b[0m_parent_ident\u001b[0m\u001b[1;33m,\u001b[0m\u001b[1;33m\u001b[0m\u001b[1;33m\u001b[0m\u001b[0m\n\u001b[0;32m    862\u001b[0m             \u001b[0mself\u001b[0m\u001b[1;33m.\u001b[0m\u001b[0m_parent_header\u001b[0m\u001b[1;33m,\u001b[0m\u001b[1;33m\u001b[0m\u001b[1;33m\u001b[0m\u001b[0m\n",
      "\u001b[1;32m~\\anaconda3\\lib\\site-packages\\ipykernel\\kernelbase.py\u001b[0m in \u001b[0;36m_input_request\u001b[1;34m(self, prompt, ident, parent, password)\u001b[0m\n\u001b[0;32m    902\u001b[0m             \u001b[1;32mexcept\u001b[0m \u001b[0mKeyboardInterrupt\u001b[0m\u001b[1;33m:\u001b[0m\u001b[1;33m\u001b[0m\u001b[1;33m\u001b[0m\u001b[0m\n\u001b[0;32m    903\u001b[0m                 \u001b[1;31m# re-raise KeyboardInterrupt, to truncate traceback\u001b[0m\u001b[1;33m\u001b[0m\u001b[1;33m\u001b[0m\u001b[1;33m\u001b[0m\u001b[0m\n\u001b[1;32m--> 904\u001b[1;33m                 \u001b[1;32mraise\u001b[0m \u001b[0mKeyboardInterrupt\u001b[0m\u001b[1;33m(\u001b[0m\u001b[1;34m\"Interrupted by user\"\u001b[0m\u001b[1;33m)\u001b[0m \u001b[1;32mfrom\u001b[0m \u001b[1;32mNone\u001b[0m\u001b[1;33m\u001b[0m\u001b[1;33m\u001b[0m\u001b[0m\n\u001b[0m\u001b[0;32m    905\u001b[0m             \u001b[1;32mexcept\u001b[0m \u001b[0mException\u001b[0m \u001b[1;32mas\u001b[0m \u001b[0me\u001b[0m\u001b[1;33m:\u001b[0m\u001b[1;33m\u001b[0m\u001b[1;33m\u001b[0m\u001b[0m\n\u001b[0;32m    906\u001b[0m                 \u001b[0mself\u001b[0m\u001b[1;33m.\u001b[0m\u001b[0mlog\u001b[0m\u001b[1;33m.\u001b[0m\u001b[0mwarning\u001b[0m\u001b[1;33m(\u001b[0m\u001b[1;34m\"Invalid Message:\"\u001b[0m\u001b[1;33m,\u001b[0m \u001b[0mexc_info\u001b[0m\u001b[1;33m=\u001b[0m\u001b[1;32mTrue\u001b[0m\u001b[1;33m)\u001b[0m\u001b[1;33m\u001b[0m\u001b[1;33m\u001b[0m\u001b[0m\n",
      "\u001b[1;31mKeyboardInterrupt\u001b[0m: Interrupted by user"
     ]
    }
   ],
   "source": [
    "# Há um erro no exemplo do enunciado. O 'Total' deveria ser R$ 8.00 e não R$ 9.00.\n",
    "# Como o próprio enunciado pede, este é um sistema de caixa bastante rudimentar.\n",
    "# O erro desta lógica é que aparece um \"Produto X: R$ 0\" quando o usuário entra com \n",
    "# este valor para finalizar a listagem de produtos.\n",
    "i_compra = 1\n",
    "i_produto = 1\n",
    "\n",
    "while 1:\n",
    "    print(\"Compra #{}\".format(i_compra))\n",
    "    \n",
    "    total_compra = 0\n",
    "    valor_produto = float(input(\"Produto 1: R$\"))\n",
    "    if valor_produto != 0:\n",
    "        i_produto = 2\n",
    "        total_compra += valor_produto\n",
    "\n",
    "        while valor_produto != 0:\n",
    "            valor_produto = float(input(\"Produto {}: R$ \".format(i_produto)))\n",
    "            if valor_produto != 0:\n",
    "                total_compra += valor_produto\n",
    "                i_produto += 1\n",
    "        \n",
    "    print(\"Total: R$ {}\".format(total_compra))\n",
    "    bruto = float(input(\"Dinheiro fornecido: R$\"))\n",
    "    troco = bruto - total_compra\n",
    "    print(\"Troco: R$ {}\".format(troco))\n",
    "    \n",
    "    i_compra += 1\n",
    "    print(\"\\n\")\n",
    "        \n",
    "    "
   ]
  },
  {
   "cell_type": "markdown",
   "id": "b3480950",
   "metadata": {},
   "source": [
    "32. Faça um programa que calcule o fatorial de um número inteiro fornecido pelo usuário. Ex.: 5!=5.4.3.2.1=120. A saída deve ser conforme o exemplo abaixo:\n",
    "\n",
    "Fatorial de: 5\n",
    "5! =  5 . 4 . 3 . 2 . 1 = 120"
   ]
  },
  {
   "cell_type": "code",
   "execution_count": 166,
   "id": "2bbd6860",
   "metadata": {},
   "outputs": [
    {
     "name": "stdout",
     "output_type": "stream",
     "text": [
      "Informe um número: 10\n",
      "\n",
      "Fatorial de: 10\n",
      "10! = 10 . 9 . 8 . 7 . 6 . 5 . 4 . 3 . 2 . 1 = 3628800\n"
     ]
    }
   ],
   "source": [
    "n = int(input(\"Informe um número: \"))\n",
    "count = n\n",
    "resultado = 1\n",
    "\n",
    "print(\"\\nFatorial de: {}\\n{}! = \".format(n,n), end='')\n",
    "while count > 0:\n",
    "    resultado = resultado * count\n",
    "    if count != 1:\n",
    "        print(\"{} . \".format(count), end='')\n",
    "    else:\n",
    "        print(\"{} = {}\".format(count, resultado))\n",
    "    count -= 1"
   ]
  },
  {
   "cell_type": "markdown",
   "id": "adff9b41",
   "metadata": {},
   "source": [
    "33. O Departamento Estadual de Meteorologia lhe contratou para desenvolver um programa que leia um conjunto indeterminado de temperaturas, e informe ao final a menor e a maior temperaturas informadas, bem como a média das temperaturas."
   ]
  },
  {
   "cell_type": "code",
   "execution_count": 173,
   "id": "9cdba8a2",
   "metadata": {},
   "outputs": [
    {
     "name": "stdout",
     "output_type": "stream",
     "text": [
      "Temperatura 1\n",
      "37.5\n",
      "\n",
      "Menor temperatura: 37.5\n",
      "Maior temperatura: 37.5\n",
      "Média: 37.5\n",
      "\n",
      "Temperatura 2\n",
      "22.3\n",
      "\n",
      "Menor temperatura: 22.3\n",
      "Maior temperatura: 37.5\n",
      "Média: 29.9\n",
      "\n",
      "Temperatura 3\n",
      "42.8\n",
      "\n",
      "Menor temperatura: 22.3\n",
      "Maior temperatura: 42.8\n",
      "Média: 34.199999999999996\n",
      "\n"
     ]
    },
    {
     "ename": "KeyboardInterrupt",
     "evalue": "Interrupted by user",
     "output_type": "error",
     "traceback": [
      "\u001b[1;31m---------------------------------------------------------------------------\u001b[0m",
      "\u001b[1;31mKeyboardInterrupt\u001b[0m                         Traceback (most recent call last)",
      "\u001b[1;32m<ipython-input-173-657607b5bd62>\u001b[0m in \u001b[0;36m<module>\u001b[1;34m\u001b[0m\n\u001b[0;32m      6\u001b[0m \u001b[1;33m\u001b[0m\u001b[0m\n\u001b[0;32m      7\u001b[0m \u001b[1;32mwhile\u001b[0m \u001b[1;36m1\u001b[0m\u001b[1;33m:\u001b[0m\u001b[1;33m\u001b[0m\u001b[1;33m\u001b[0m\u001b[0m\n\u001b[1;32m----> 8\u001b[1;33m     \u001b[0mtemperatura\u001b[0m \u001b[1;33m=\u001b[0m \u001b[0mfloat\u001b[0m\u001b[1;33m(\u001b[0m\u001b[0minput\u001b[0m\u001b[1;33m(\u001b[0m\u001b[1;34m\"Temperatura {}\\n\"\u001b[0m\u001b[1;33m.\u001b[0m\u001b[0mformat\u001b[0m\u001b[1;33m(\u001b[0m\u001b[0mi\u001b[0m\u001b[1;33m)\u001b[0m\u001b[1;33m)\u001b[0m\u001b[1;33m)\u001b[0m\u001b[1;33m\u001b[0m\u001b[1;33m\u001b[0m\u001b[0m\n\u001b[0m\u001b[0;32m      9\u001b[0m     \u001b[0msoma\u001b[0m \u001b[1;33m+=\u001b[0m \u001b[0mtemperatura\u001b[0m\u001b[1;33m\u001b[0m\u001b[1;33m\u001b[0m\u001b[0m\n\u001b[0;32m     10\u001b[0m     \u001b[0mmedia\u001b[0m \u001b[1;33m=\u001b[0m \u001b[0msoma\u001b[0m \u001b[1;33m/\u001b[0m \u001b[0mi\u001b[0m\u001b[1;33m\u001b[0m\u001b[1;33m\u001b[0m\u001b[0m\n",
      "\u001b[1;32m~\\anaconda3\\lib\\site-packages\\ipykernel\\kernelbase.py\u001b[0m in \u001b[0;36mraw_input\u001b[1;34m(self, prompt)\u001b[0m\n\u001b[0;32m    858\u001b[0m                 \u001b[1;34m\"raw_input was called, but this frontend does not support input requests.\"\u001b[0m\u001b[1;33m\u001b[0m\u001b[1;33m\u001b[0m\u001b[0m\n\u001b[0;32m    859\u001b[0m             )\n\u001b[1;32m--> 860\u001b[1;33m         return self._input_request(str(prompt),\n\u001b[0m\u001b[0;32m    861\u001b[0m             \u001b[0mself\u001b[0m\u001b[1;33m.\u001b[0m\u001b[0m_parent_ident\u001b[0m\u001b[1;33m,\u001b[0m\u001b[1;33m\u001b[0m\u001b[1;33m\u001b[0m\u001b[0m\n\u001b[0;32m    862\u001b[0m             \u001b[0mself\u001b[0m\u001b[1;33m.\u001b[0m\u001b[0m_parent_header\u001b[0m\u001b[1;33m,\u001b[0m\u001b[1;33m\u001b[0m\u001b[1;33m\u001b[0m\u001b[0m\n",
      "\u001b[1;32m~\\anaconda3\\lib\\site-packages\\ipykernel\\kernelbase.py\u001b[0m in \u001b[0;36m_input_request\u001b[1;34m(self, prompt, ident, parent, password)\u001b[0m\n\u001b[0;32m    902\u001b[0m             \u001b[1;32mexcept\u001b[0m \u001b[0mKeyboardInterrupt\u001b[0m\u001b[1;33m:\u001b[0m\u001b[1;33m\u001b[0m\u001b[1;33m\u001b[0m\u001b[0m\n\u001b[0;32m    903\u001b[0m                 \u001b[1;31m# re-raise KeyboardInterrupt, to truncate traceback\u001b[0m\u001b[1;33m\u001b[0m\u001b[1;33m\u001b[0m\u001b[1;33m\u001b[0m\u001b[0m\n\u001b[1;32m--> 904\u001b[1;33m                 \u001b[1;32mraise\u001b[0m \u001b[0mKeyboardInterrupt\u001b[0m\u001b[1;33m(\u001b[0m\u001b[1;34m\"Interrupted by user\"\u001b[0m\u001b[1;33m)\u001b[0m \u001b[1;32mfrom\u001b[0m \u001b[1;32mNone\u001b[0m\u001b[1;33m\u001b[0m\u001b[1;33m\u001b[0m\u001b[0m\n\u001b[0m\u001b[0;32m    905\u001b[0m             \u001b[1;32mexcept\u001b[0m \u001b[0mException\u001b[0m \u001b[1;32mas\u001b[0m \u001b[0me\u001b[0m\u001b[1;33m:\u001b[0m\u001b[1;33m\u001b[0m\u001b[1;33m\u001b[0m\u001b[0m\n\u001b[0;32m    906\u001b[0m                 \u001b[0mself\u001b[0m\u001b[1;33m.\u001b[0m\u001b[0mlog\u001b[0m\u001b[1;33m.\u001b[0m\u001b[0mwarning\u001b[0m\u001b[1;33m(\u001b[0m\u001b[1;34m\"Invalid Message:\"\u001b[0m\u001b[1;33m,\u001b[0m \u001b[0mexc_info\u001b[0m\u001b[1;33m=\u001b[0m\u001b[1;32mTrue\u001b[0m\u001b[1;33m)\u001b[0m\u001b[1;33m\u001b[0m\u001b[1;33m\u001b[0m\u001b[0m\n",
      "\u001b[1;31mKeyboardInterrupt\u001b[0m: Interrupted by user"
     ]
    }
   ],
   "source": [
    "# Este programa não oferece nenhuma opção para o usuário encerrar o loop\n",
    "# para fins de rápida elaboração do código.\n",
    "i = 1\n",
    "soma = 0\n",
    "media = 0\n",
    "\n",
    "while 1:\n",
    "    temperatura = float(input(\"Temperatura {}\\n\".format(i)))\n",
    "    soma += temperatura\n",
    "    media = soma / i\n",
    "    if i == 1:\n",
    "        maior = temperatura\n",
    "        menor = temperatura\n",
    "    else:\n",
    "        if temperatura > maior:\n",
    "            maior = temperatura\n",
    "        if temperatura < menor:\n",
    "            menor = temperatura\n",
    "    \n",
    "    print(\"\\nMenor temperatura: {}\\nMaior temperatura: {}\\nMédia: {}\\n\".format(menor, maior, media))\n",
    "    i += 1"
   ]
  },
  {
   "cell_type": "markdown",
   "id": "6db5ab85",
   "metadata": {},
   "source": [
    "34. Os números primos possuem várias aplicações dentro da Computação, por exemplo na Criptografia. Um número primo é aquele que é divisível apenas por um e por ele mesmo. Faça um programa que peça um número inteiro e determine se ele é ou não um número primo."
   ]
  },
  {
   "cell_type": "code",
   "execution_count": 174,
   "id": "35ecc051",
   "metadata": {},
   "outputs": [
    {
     "name": "stdout",
     "output_type": "stream",
     "text": [
      "Informe um número: 20\n",
      "O número 20 não é primo!\n"
     ]
    }
   ],
   "source": [
    "# Este enunciado é uma repetição do exercício 21.\n",
    "n = int(input(\"Informe um número: \"))\n",
    "flag = 0\n",
    "\n",
    "# Aqui já excluímos a opção do i começar a partir do número\n",
    "i = n - 1\n",
    "# Quando encontrar um valor de i que divide n, o while é interrompido.\n",
    "while flag == 0 and i > 1:\n",
    "    if n % i == 0:\n",
    "        flag = 1\n",
    "    i-= 1\n",
    "    \n",
    "if flag == 0:\n",
    "    print(\"O número {} é primo!\".format(n))\n",
    "else:\n",
    "    print(\"O número {} não é primo!\".format(n))"
   ]
  },
  {
   "cell_type": "markdown",
   "id": "77a78ece",
   "metadata": {},
   "source": [
    "35. Encontrar números primos é uma tarefa difícil. Faça um programa que gera uma lista dos números primos existentes entre 1 e um número inteiro informado pelo usuário."
   ]
  },
  {
   "cell_type": "code",
   "execution_count": 177,
   "id": "a9351c68",
   "metadata": {},
   "outputs": [
    {
     "name": "stdout",
     "output_type": "stream",
     "text": [
      "Informe um número: 100\n",
      "\n",
      "Os números primos de 1 a 100 são: [2, 3, 5, 7, 11, 13, 17, 19, 23, 29, 31, 37, 41, 43, 47, 53, 59, 61, 67, 71, 73, 79, 83, 89, 97]\n"
     ]
    }
   ],
   "source": [
    "# Este enunciado é parecido com o exercício 23, \n",
    "# mas neste caso ele não mostra quantas divisões foram feitas.\n",
    "n = int(input(\"Informe um número: \"))\n",
    "count = 0\n",
    "primos = []\n",
    "\n",
    "j = n\n",
    "# Quando encontrar um valor de i que divide n, o while é interrompido.\n",
    "while j > 1:\n",
    "    count = 0\n",
    "    i = j - 1\n",
    "    while i > 1:\n",
    "        if j % i == 0:\n",
    "            count += 1\n",
    "        i-= 1\n",
    "    if count == 0:\n",
    "        primos.append(j)\n",
    "    j -= 1\n",
    "\n",
    "print(\"\\nOs números primos de 1 a {} são:\".format(n), primos[::-1])"
   ]
  },
  {
   "cell_type": "markdown",
   "id": "d93e4593",
   "metadata": {},
   "source": [
    "36. Desenvolva um programa que faça a tabuada de um número qualquer inteiro que será digitado pelo usuário, mas a tabuada não deve necessariamente iniciar em 1 e terminar em 10, o valor inicial e final devem ser informados também pelo usuário, conforme exemplo abaixo:\n",
    "\n",
    "Montar a tabuada de: 5\n",
    "Começar por: 4\n",
    "Terminar em: 7\n",
    "\n",
    "Vou montar a tabuada de 5 começando em 4 e terminando em 7:\n",
    "5 X 4 = 20\n",
    "5 X 5 = 25\n",
    "5 X 6 = 30\n",
    "5 X 7 = 35\n",
    "\n",
    "Obs: Você deve verificar se o usuário não digitou o final menor que o inicial."
   ]
  },
  {
   "cell_type": "code",
   "execution_count": 182,
   "id": "697c7452",
   "metadata": {},
   "outputs": [
    {
     "name": "stdout",
     "output_type": "stream",
     "text": [
      "Número da tabuada: 5\n",
      "Valor inicial: 7\n",
      "Valor final: 4\n",
      "O valor final deve ser MAIOR que o inicial! Tente novamente: \n",
      "Valor inicial: 4\n",
      "Valor final: 7\n",
      "\n",
      "Vou montar a tabuada de 5 começando em 4 e terminando em 7\n",
      "5 X 4 = 20\n",
      "5 X 5 = 25\n",
      "5 X 6 = 30\n",
      "5 X 7 = 35\n"
     ]
    }
   ],
   "source": [
    "num = int(input(\"Número da tabuada: \"))\n",
    "inicial = int(input(\"Valor inicial: \"))\n",
    "final = int(input(\"Valor final: \"))\n",
    "    \n",
    "while final <= inicial:\n",
    "    print(\"O valor final deve ser MAIOR que o inicial! Tente novamente: \")\n",
    "    inicial = int(input(\"Valor inicial: \"))\n",
    "    final = int(input(\"Valor final: \"))\n",
    "    \n",
    "print(\"\\nVou montar a tabuada de {} começando em {} e terminando em {}\".format(num, inicial, final))\n",
    "i = inicial\n",
    "while i <= final:\n",
    "    print(\"{} X {} = {}\".format(num, i, num*i))\n",
    "    i+= 1\n",
    "\n"
   ]
  },
  {
   "cell_type": "markdown",
   "id": "64c83c9e",
   "metadata": {},
   "source": [
    "37. Uma academia deseja fazer um senso entre seus clientes para descobrir o mais alto, o mais baixo, a mais gordo e o mais magro, para isto você deve fazer um programa que pergunte a cada um dos clientes da academia seu código, sua altura e seu peso. O final da digitação de dados deve ser dada quando o usuário digitar 0 (zero) no campo código. Ao encerrar o programa também deve ser informados os códigos e valores do clente mais alto, do mais baixo, do mais gordo e do mais magro, além da média das alturas e dos pesos dos clientes."
   ]
  },
  {
   "cell_type": "code",
   "execution_count": 212,
   "id": "fcb50400",
   "metadata": {},
   "outputs": [
    {
     "name": "stdout",
     "output_type": "stream",
     "text": [
      "Código do Cliente / 0 para terminar: 1\n",
      "Altura (m): 1.75\n",
      "Peso (kg): 74.5\n",
      "Código do Cliente / 0 para terminar: 2\n",
      "Altura (m): 2.05\n",
      "Peso (kg): 103.4\n",
      "Código do Cliente / 0 para terminar: 3\n",
      "Altura (m): 1.69\n",
      "Peso (kg): 56.3\n",
      "Código do Cliente / 0 para terminar: 0\n",
      "\n",
      "Cliente mais alto:\n",
      "Código: 2\tAltura: 2.05\n",
      "\n",
      "Cliente mais baixo:\n",
      "Código: 3\tAltura: 1.69\n",
      "\n",
      "Cliente mais pesado:\n",
      "Código: 2\tPeso: 103.4\n",
      "\n",
      "Cliente mais leve:\n",
      "Código: 3\tPeso: 56.3\n",
      "\n",
      "Média alturas: 1.83\n",
      "Média pesos: 78.06666666666666\n",
      "\n",
      "Total de alunos: 3\n"
     ]
    }
   ],
   "source": [
    "alunos = []\n",
    "codigo = 1\n",
    "soma_pesos = 0\n",
    "soma_alturas = 0\n",
    "total_alunos = 0\n",
    "\n",
    "while codigo != 0:\n",
    "    codigo = int(input(\"Código do Cliente / 0 para terminar: \"))\n",
    "    if codigo > 0:\n",
    "        altura = float(input(\"Altura (m): \"))\n",
    "        soma_alturas += altura\n",
    "        peso = float(input(\"Peso (kg): \"))\n",
    "        soma_pesos += peso\n",
    "        alunos.append({'Codigo': codigo, 'Altura': altura, 'Peso':peso})\n",
    "        total_alunos += 1\n",
    "        \n",
    "cod_maior_altura = 0\n",
    "cod_menor_altura = 0\n",
    "cod_maior_peso = 0\n",
    "cod_menor_peso = 0\n",
    "maior_altura = -1\n",
    "menor_altura = 999\n",
    "maior_peso = -1\n",
    "menor_peso = 999\n",
    "        \n",
    "for i in alunos:\n",
    "    if i['Altura'] > maior_altura:\n",
    "        maior_altura = i['Altura']\n",
    "        cod_maior_altura = i['Codigo']\n",
    "    if i['Altura'] < menor_altura:\n",
    "        menor_altura = i['Altura']\n",
    "        cod_menor_altura = i['Codigo']\n",
    "    if i['Peso'] > maior_peso:\n",
    "        maior_peso = i['Peso']\n",
    "        cod_maior_peso = i['Codigo']\n",
    "    if i['Peso'] < menor_peso:\n",
    "        menor_peso = i['Peso']\n",
    "        cod_menor_peso = i['Codigo']\n",
    "\n",
    "if len(alunos) > 0:\n",
    "    print(\"\\nCliente mais alto:\\nCódigo: {}\\tAltura: {}\".format(cod_maior_altura, maior_altura))\n",
    "    print(\"\\nCliente mais baixo:\\nCódigo: {}\\tAltura: {}\".format(cod_menor_altura, menor_altura))\n",
    "    print(\"\\nCliente mais pesado:\\nCódigo: {}\\tPeso: {}\".format(cod_maior_peso, maior_peso))\n",
    "    print(\"\\nCliente mais leve:\\nCódigo: {}\\tPeso: {}\".format(cod_menor_peso, menor_peso))\n",
    "    \n",
    "    media_alturas = soma_alturas / total_alunos\n",
    "    media_pesos = soma_pesos / total_alunos\n",
    "    print(\"\\nMédia alturas: {}\".format(media_alturas))\n",
    "    print(\"Média pesos: {}\".format(media_pesos))\n",
    "    print(\"\\nTotal de alunos: {}\".format(total_alunos))\n",
    "else:\n",
    "    print(\"Programa finalizado!\")"
   ]
  },
  {
   "cell_type": "markdown",
   "id": "549eb5fa",
   "metadata": {},
   "source": [
    "38. Um funcionário de uma empresa recebe aumento salarial anualmente: Sabe-se que:\n",
    "a. Esse funcionário foi contratado em 1995, com salário inicial de R$ 1.000,00;\n",
    "b. Em 1996 recebeu aumento de 1,5% sobre seu salário inicial;\n",
    "c. A partir de 1997 (inclusive), os aumentos salariais sempre correspondem ao dobro do percentual do ano anterior. Faça um programa que determine o salário atual desse funcionário. Após concluir isto, altere o programa permitindo que o usuário digite o salário inicial do funcionário."
   ]
  },
  {
   "cell_type": "code",
   "execution_count": 246,
   "id": "e902b60c",
   "metadata": {},
   "outputs": [
    {
     "name": "stdout",
     "output_type": "stream",
     "text": [
      "Salário inicial em 1995: 1000\n",
      "1996\tR$ 1015.00\t1.50 %\n",
      "1997\tR$ 1045.45\t3.00 %\n",
      "1998\tR$ 1108.18\t6.00 %\n",
      "1999\tR$ 1241.16\t12.00 %\n",
      "2000\tR$ 1539.04\t24.00 %\n",
      "2001\tR$ 2277.77\t48.00 %\n",
      "2002\tR$ 4464.44\t96.00 %\n",
      "2003\tR$ 13036.15\t192.00 %\n",
      "2004\tR$ 63094.98\t384.00 %\n",
      "2005\tR$ 547664.47\t768.00 %\n",
      "2006\tR$ 8959790.69\t1536.00 %\n",
      "2007\tR$ 284204560.82\t3072.00 %\n",
      "2008\tR$ 17745732777.31\t6144.00 %\n",
      "2009\tR$ 2198341376453.00\t12288.00 %\n",
      "2010\tR$ 542462718053542.19\t24576.00 %\n",
      "2011\tR$ 267173737895730592.00\t49152.00 %\n",
      "2012\tR$ 262909645038914699264.00\t98304.00 %\n",
      "2013\tR$ 517164304563148312018944.00\t196608.00 %\n",
      "2014\tR$ 2034089956135592355082272768.00\t393216.00 %\n",
      "2015\tR$ 15998768413792396533288497315840.00\t786432.00 %\n",
      "2016\tR$ 251654867592325433880764780338216960.00\t1572864.00 %\n",
      "2017\tR$ 7916629288082299627197923665876621459456.00\t3145728.00 %\n",
      "2018\tR$ 498079164972099231500831130952899538079186944.00\t6291456.00 %\n",
      "2019\tR$ 62673361097939047128369603216519565598853735383040.00\t12582912.00 %\n",
      "2020\tR$ 15772330422152904879813669471476743110304999867596931072.00\t25165824.00 %\n",
      "2021\tR$ 7938489601805336068635772326082728232002794894148337456381952.00\t50331648.00 %\n",
      "Em 2021 o salário é R$ 7938489601805336068635772326082728232002794894148337456381952.00\n"
     ]
    }
   ],
   "source": [
    "from datetime import datetime\n",
    "\n",
    "salario = float(input(\"Salário inicial em 1995: \"))\n",
    "aumento = 1.5 / 100\n",
    "i = 1\n",
    "\n",
    "periodo_calculo = datetime.now().year - 1995\n",
    "#periodo_calculo = 1\n",
    "while i <= periodo_calculo:\n",
    "    salario = salario + (salario * aumento)\n",
    "    print(\"{}\\tR$ {:.2f}\\t{:.2f} %\".format(1995 + i, salario, aumento*100))\n",
    "    aumento *= 2\n",
    "    i += 1\n",
    "    \n",
    "print(\"Em {} o salário é R$ {:.2f}\".format(datetime.now().year, salario))"
   ]
  },
  {
   "cell_type": "markdown",
   "id": "7f807e89",
   "metadata": {},
   "source": [
    "39. Faça um programa que leia dez conjuntos de dois valores, o primeiro representando o número do aluno e o segundo representando a sua altura em centímetros. Encontre o aluno mais alto e o mais baixo. Mostre o número do aluno mais alto e o número do aluno mais baixo, junto com suas alturas."
   ]
  },
  {
   "cell_type": "code",
   "execution_count": 274,
   "id": "5f637ac5",
   "metadata": {},
   "outputs": [],
   "source": [
    "\n"
   ]
  }
 ],
 "metadata": {
  "kernelspec": {
   "display_name": "Python 3",
   "language": "python",
   "name": "python3"
  },
  "language_info": {
   "codemirror_mode": {
    "name": "ipython",
    "version": 3
   },
   "file_extension": ".py",
   "mimetype": "text/x-python",
   "name": "python",
   "nbconvert_exporter": "python",
   "pygments_lexer": "ipython3",
   "version": "3.8.8"
  }
 },
 "nbformat": 4,
 "nbformat_minor": 5
}
